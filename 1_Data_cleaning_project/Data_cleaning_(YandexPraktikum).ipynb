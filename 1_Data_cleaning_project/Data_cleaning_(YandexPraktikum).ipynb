{
  "nbformat": 4,
  "nbformat_minor": 0,
  "metadata": {
    "kernelspec": {
      "display_name": "Python 3",
      "language": "python",
      "name": "python3"
    },
    "language_info": {
      "codemirror_mode": {
        "name": "ipython",
        "version": 3
      },
      "file_extension": ".py",
      "mimetype": "text/x-python",
      "name": "python",
      "nbconvert_exporter": "python",
      "pygments_lexer": "ipython3",
      "version": "3.7.8"
    },
    "toc": {
      "base_numbering": 1,
      "nav_menu": {},
      "number_sections": true,
      "sideBar": true,
      "skip_h1_title": false,
      "title_cell": "Table of Contents",
      "title_sidebar": "Contents",
      "toc_cell": false,
      "toc_position": {},
      "toc_section_display": true,
      "toc_window_display": false
    },
    "colab": {
      "name": "2_Data_cleaning (YandexPraktikum).ipynb",
      "provenance": [],
      "collapsed_sections": [],
      "toc_visible": true,
      "include_colab_link": true
    }
  },
  "cells": [
    {
      "cell_type": "markdown",
      "metadata": {
        "id": "view-in-github",
        "colab_type": "text"
      },
      "source": [
        "<a href=\"https://colab.research.google.com/github/AndreyDyachkov/Portfolio/blob/main/1_Data_cleaning_project/Data_cleaning_(YandexPraktikum).ipynb\" target=\"_parent\"><img src=\"https://colab.research.google.com/assets/colab-badge.svg\" alt=\"Open In Colab\"/></a>"
      ]
    },
    {
      "cell_type": "markdown",
      "metadata": {
        "id": "6srjGh3vvqbE"
      },
      "source": [
        "# Обработка и базовый анализ данных на примере выгрузки для кредитного скоринга"
      ]
    },
    {
      "cell_type": "markdown",
      "metadata": {
        "id": "v4GYP0UlqpRM"
      },
      "source": [
        "<b>Задача:</b> \n",
        "- Очистить данные \n",
        "- Оценить влияет ли семейное положение и количество детей клиента на факт погашения кредита в срок.\n",
        "\n",
        "<b>Описание данных:</b>\n",
        "- children — количество детей в семье\n",
        "- days_employed — общий трудовой стаж в днях\n",
        "- dob_years — возраст клиента в годах\n",
        "- education — уровень образования клиента\n",
        "- education_id — идентификатор уровня образования\n",
        "- family_status — семейное положение\n",
        "- family_status_id — идентификатор семейного положения\n",
        "- gender — пол клиента\n",
        "- income_type — тип занятости\n",
        "- debt — имел ли задолженность по возврату кредитов (1- задолженность, - нет)\n",
        "- total_income — ежемесячный доход\n",
        "- purpose — цель получения кредита"
      ]
    },
    {
      "cell_type": "markdown",
      "metadata": {
        "id": "TETgEadpvqbF"
      },
      "source": [
        "### Этап 1. Импортируем библиотеки, открываем файл и изучаем общую информацию"
      ]
    },
    {
      "cell_type": "markdown",
      "metadata": {
        "id": "usZuSBG3tx0W"
      },
      "source": [
        "#### Загружаем библиотеки"
      ]
    },
    {
      "cell_type": "code",
      "metadata": {
        "id": "o5iiOeKZt6Fm"
      },
      "source": [
        "import pandas as pd\n",
        "import numpy as np\n",
        "import matplotlib.pyplot as plt"
      ],
      "execution_count": 273,
      "outputs": []
    },
    {
      "cell_type": "markdown",
      "metadata": {
        "id": "QFzhJryWt-A-"
      },
      "source": [
        "#### Загружаем датафрейм из csv файла"
      ]
    },
    {
      "cell_type": "code",
      "metadata": {
        "id": "UWCA9Ak-wOwW",
        "colab": {
          "base_uri": "https://localhost:8080/"
        },
        "outputId": "4944b91b-8817-48aa-9d8e-daf4de0b6f4e"
      },
      "source": [
        "from google.colab import drive\n",
        "drive.mount('/content/drive')"
      ],
      "execution_count": 274,
      "outputs": [
        {
          "output_type": "stream",
          "text": [
            "Drive already mounted at /content/drive; to attempt to forcibly remount, call drive.mount(\"/content/drive\", force_remount=True).\n"
          ],
          "name": "stdout"
        }
      ]
    },
    {
      "cell_type": "code",
      "metadata": {
        "id": "qQMY8djqvqbG",
        "colab": {
          "base_uri": "https://localhost:8080/",
          "height": 309
        },
        "outputId": "cd8238d1-6129-4748-951e-53e471b61fa9"
      },
      "source": [
        "\n",
        "df = pd.read_csv('/content/drive/MyDrive/Colab Notebooks/Y_Praktikum/data/data.csv')\n",
        "df.head()"
      ],
      "execution_count": 275,
      "outputs": [
        {
          "output_type": "execute_result",
          "data": {
            "text/html": [
              "<div>\n",
              "<style scoped>\n",
              "    .dataframe tbody tr th:only-of-type {\n",
              "        vertical-align: middle;\n",
              "    }\n",
              "\n",
              "    .dataframe tbody tr th {\n",
              "        vertical-align: top;\n",
              "    }\n",
              "\n",
              "    .dataframe thead th {\n",
              "        text-align: right;\n",
              "    }\n",
              "</style>\n",
              "<table border=\"1\" class=\"dataframe\">\n",
              "  <thead>\n",
              "    <tr style=\"text-align: right;\">\n",
              "      <th></th>\n",
              "      <th>children</th>\n",
              "      <th>days_employed</th>\n",
              "      <th>dob_years</th>\n",
              "      <th>education</th>\n",
              "      <th>education_id</th>\n",
              "      <th>family_status</th>\n",
              "      <th>family_status_id</th>\n",
              "      <th>gender</th>\n",
              "      <th>income_type</th>\n",
              "      <th>debt</th>\n",
              "      <th>total_income</th>\n",
              "      <th>purpose</th>\n",
              "    </tr>\n",
              "  </thead>\n",
              "  <tbody>\n",
              "    <tr>\n",
              "      <th>0</th>\n",
              "      <td>1</td>\n",
              "      <td>-8437.673028</td>\n",
              "      <td>42</td>\n",
              "      <td>высшее</td>\n",
              "      <td>0</td>\n",
              "      <td>женат / замужем</td>\n",
              "      <td>0</td>\n",
              "      <td>F</td>\n",
              "      <td>сотрудник</td>\n",
              "      <td>0</td>\n",
              "      <td>253875.639453</td>\n",
              "      <td>покупка жилья</td>\n",
              "    </tr>\n",
              "    <tr>\n",
              "      <th>1</th>\n",
              "      <td>1</td>\n",
              "      <td>-4024.803754</td>\n",
              "      <td>36</td>\n",
              "      <td>среднее</td>\n",
              "      <td>1</td>\n",
              "      <td>женат / замужем</td>\n",
              "      <td>0</td>\n",
              "      <td>F</td>\n",
              "      <td>сотрудник</td>\n",
              "      <td>0</td>\n",
              "      <td>112080.014102</td>\n",
              "      <td>приобретение автомобиля</td>\n",
              "    </tr>\n",
              "    <tr>\n",
              "      <th>2</th>\n",
              "      <td>0</td>\n",
              "      <td>-5623.422610</td>\n",
              "      <td>33</td>\n",
              "      <td>Среднее</td>\n",
              "      <td>1</td>\n",
              "      <td>женат / замужем</td>\n",
              "      <td>0</td>\n",
              "      <td>M</td>\n",
              "      <td>сотрудник</td>\n",
              "      <td>0</td>\n",
              "      <td>145885.952297</td>\n",
              "      <td>покупка жилья</td>\n",
              "    </tr>\n",
              "    <tr>\n",
              "      <th>3</th>\n",
              "      <td>3</td>\n",
              "      <td>-4124.747207</td>\n",
              "      <td>32</td>\n",
              "      <td>среднее</td>\n",
              "      <td>1</td>\n",
              "      <td>женат / замужем</td>\n",
              "      <td>0</td>\n",
              "      <td>M</td>\n",
              "      <td>сотрудник</td>\n",
              "      <td>0</td>\n",
              "      <td>267628.550329</td>\n",
              "      <td>дополнительное образование</td>\n",
              "    </tr>\n",
              "    <tr>\n",
              "      <th>4</th>\n",
              "      <td>0</td>\n",
              "      <td>340266.072047</td>\n",
              "      <td>53</td>\n",
              "      <td>среднее</td>\n",
              "      <td>1</td>\n",
              "      <td>гражданский брак</td>\n",
              "      <td>1</td>\n",
              "      <td>F</td>\n",
              "      <td>пенсионер</td>\n",
              "      <td>0</td>\n",
              "      <td>158616.077870</td>\n",
              "      <td>сыграть свадьбу</td>\n",
              "    </tr>\n",
              "  </tbody>\n",
              "</table>\n",
              "</div>"
            ],
            "text/plain": [
              "   children  days_employed  ...   total_income                     purpose\n",
              "0         1   -8437.673028  ...  253875.639453               покупка жилья\n",
              "1         1   -4024.803754  ...  112080.014102     приобретение автомобиля\n",
              "2         0   -5623.422610  ...  145885.952297               покупка жилья\n",
              "3         3   -4124.747207  ...  267628.550329  дополнительное образование\n",
              "4         0  340266.072047  ...  158616.077870             сыграть свадьбу\n",
              "\n",
              "[5 rows x 12 columns]"
            ]
          },
          "metadata": {
            "tags": []
          },
          "execution_count": 275
        }
      ]
    },
    {
      "cell_type": "markdown",
      "metadata": {
        "id": "ij2811qGsJVG"
      },
      "source": [
        "Загрузилось без видимых ошибок"
      ]
    },
    {
      "cell_type": "markdown",
      "metadata": {
        "id": "Y1KTdvH1vqbG"
      },
      "source": [
        "#### Получаем общую информацию по датафрейму. Проверяем пропуски, дубли и типы данных."
      ]
    },
    {
      "cell_type": "code",
      "metadata": {
        "colab": {
          "base_uri": "https://localhost:8080/"
        },
        "id": "wkmpX1XTs8Q3",
        "outputId": "f2d12d27-2f33-4df9-e77e-c85c00f50a0e"
      },
      "source": [
        "df.shape"
      ],
      "execution_count": 276,
      "outputs": [
        {
          "output_type": "execute_result",
          "data": {
            "text/plain": [
              "(21525, 12)"
            ]
          },
          "metadata": {
            "tags": []
          },
          "execution_count": 276
        }
      ]
    },
    {
      "cell_type": "code",
      "metadata": {
        "colab": {
          "base_uri": "https://localhost:8080/"
        },
        "id": "eQufN7_JtXX9",
        "outputId": "315a284b-5945-45b8-b538-011e7e311978"
      },
      "source": [
        "df.duplicated().sum()"
      ],
      "execution_count": 277,
      "outputs": [
        {
          "output_type": "execute_result",
          "data": {
            "text/plain": [
              "54"
            ]
          },
          "metadata": {
            "tags": []
          },
          "execution_count": 277
        }
      ]
    },
    {
      "cell_type": "code",
      "metadata": {
        "colab": {
          "base_uri": "https://localhost:8080/"
        },
        "id": "8E2h66nkvFI3",
        "outputId": "0d2f440f-0a7b-4c6a-e880-0e5c0b4b05dc"
      },
      "source": [
        "df = df.drop_duplicates().reset_index(drop=True)\n",
        "df.duplicated().sum()"
      ],
      "execution_count": 278,
      "outputs": [
        {
          "output_type": "execute_result",
          "data": {
            "text/plain": [
              "0"
            ]
          },
          "metadata": {
            "tags": []
          },
          "execution_count": 278
        }
      ]
    },
    {
      "cell_type": "code",
      "metadata": {
        "id": "eSHfoVn6vqbH",
        "colab": {
          "base_uri": "https://localhost:8080/"
        },
        "outputId": "0d936e0a-bce8-49c0-feb3-074a0013e213"
      },
      "source": [
        "df.info()"
      ],
      "execution_count": 279,
      "outputs": [
        {
          "output_type": "stream",
          "text": [
            "<class 'pandas.core.frame.DataFrame'>\n",
            "RangeIndex: 21471 entries, 0 to 21470\n",
            "Data columns (total 12 columns):\n",
            " #   Column            Non-Null Count  Dtype  \n",
            "---  ------            --------------  -----  \n",
            " 0   children          21471 non-null  int64  \n",
            " 1   days_employed     19351 non-null  float64\n",
            " 2   dob_years         21471 non-null  int64  \n",
            " 3   education         21471 non-null  object \n",
            " 4   education_id      21471 non-null  int64  \n",
            " 5   family_status     21471 non-null  object \n",
            " 6   family_status_id  21471 non-null  int64  \n",
            " 7   gender            21471 non-null  object \n",
            " 8   income_type       21471 non-null  object \n",
            " 9   debt              21471 non-null  int64  \n",
            " 10  total_income      19351 non-null  float64\n",
            " 11  purpose           21471 non-null  object \n",
            "dtypes: float64(2), int64(5), object(5)\n",
            "memory usage: 2.0+ MB\n"
          ],
          "name": "stdout"
        }
      ]
    },
    {
      "cell_type": "code",
      "metadata": {
        "colab": {
          "base_uri": "https://localhost:8080/"
        },
        "id": "bJQ8v7u5Oi6Z",
        "outputId": "eb77cec3-aedc-47b9-e16b-48328d6206dc"
      },
      "source": [
        "df.isnull().sum().sum()"
      ],
      "execution_count": 280,
      "outputs": [
        {
          "output_type": "execute_result",
          "data": {
            "text/plain": [
              "4240"
            ]
          },
          "metadata": {
            "tags": []
          },
          "execution_count": 280
        }
      ]
    },
    {
      "cell_type": "code",
      "metadata": {
        "colab": {
          "base_uri": "https://localhost:8080/"
        },
        "id": "IedqErzIOjHf",
        "outputId": "e071444c-3275-42a0-f97a-7ed1db9539c1"
      },
      "source": [
        "df.isnull().sum()"
      ],
      "execution_count": 281,
      "outputs": [
        {
          "output_type": "execute_result",
          "data": {
            "text/plain": [
              "children               0\n",
              "days_employed       2120\n",
              "dob_years              0\n",
              "education              0\n",
              "education_id           0\n",
              "family_status          0\n",
              "family_status_id       0\n",
              "gender                 0\n",
              "income_type            0\n",
              "debt                   0\n",
              "total_income        2120\n",
              "purpose                0\n",
              "dtype: int64"
            ]
          },
          "metadata": {
            "tags": []
          },
          "execution_count": 281
        }
      ]
    },
    {
      "cell_type": "code",
      "metadata": {
        "colab": {
          "base_uri": "https://localhost:8080/"
        },
        "id": "8gT6SHaRO8Cq",
        "outputId": "bb02cc48-cfaa-4009-edf0-aff66d6e086c"
      },
      "source": [
        "df.isnull().mean().round(3)"
      ],
      "execution_count": 282,
      "outputs": [
        {
          "output_type": "execute_result",
          "data": {
            "text/plain": [
              "children            0.000\n",
              "days_employed       0.099\n",
              "dob_years           0.000\n",
              "education           0.000\n",
              "education_id        0.000\n",
              "family_status       0.000\n",
              "family_status_id    0.000\n",
              "gender              0.000\n",
              "income_type         0.000\n",
              "debt                0.000\n",
              "total_income        0.099\n",
              "purpose             0.000\n",
              "dtype: float64"
            ]
          },
          "metadata": {
            "tags": []
          },
          "execution_count": 282
        }
      ]
    },
    {
      "cell_type": "markdown",
      "metadata": {
        "id": "lORP0FjutE9v"
      },
      "source": [
        "<b>Вывод:</b> В датафрейме 12 колонок, 21525 строчек. Выявили 54 полных дубля. По условиям задачи дублей быть не должно - удалили. В двух колонках пропущено 9.9% записей. Типы данных не везде оптимальные - поправим на следующем этапе"
      ]
    },
    {
      "cell_type": "markdown",
      "metadata": {
        "id": "mUilYmmrvqbH"
      },
      "source": [
        "#### Посмотрим на датасет: средние значения и стандартные отклонения"
      ]
    },
    {
      "cell_type": "code",
      "metadata": {
        "id": "pP4cu0N7vqbH",
        "colab": {
          "base_uri": "https://localhost:8080/",
          "height": 297
        },
        "outputId": "0aed9d03-44e3-40f5-e5b1-e58c63d2f2cd"
      },
      "source": [
        "df.describe()"
      ],
      "execution_count": 283,
      "outputs": [
        {
          "output_type": "execute_result",
          "data": {
            "text/html": [
              "<div>\n",
              "<style scoped>\n",
              "    .dataframe tbody tr th:only-of-type {\n",
              "        vertical-align: middle;\n",
              "    }\n",
              "\n",
              "    .dataframe tbody tr th {\n",
              "        vertical-align: top;\n",
              "    }\n",
              "\n",
              "    .dataframe thead th {\n",
              "        text-align: right;\n",
              "    }\n",
              "</style>\n",
              "<table border=\"1\" class=\"dataframe\">\n",
              "  <thead>\n",
              "    <tr style=\"text-align: right;\">\n",
              "      <th></th>\n",
              "      <th>children</th>\n",
              "      <th>days_employed</th>\n",
              "      <th>dob_years</th>\n",
              "      <th>education_id</th>\n",
              "      <th>family_status_id</th>\n",
              "      <th>debt</th>\n",
              "      <th>total_income</th>\n",
              "    </tr>\n",
              "  </thead>\n",
              "  <tbody>\n",
              "    <tr>\n",
              "      <th>count</th>\n",
              "      <td>21471.000000</td>\n",
              "      <td>19351.000000</td>\n",
              "      <td>21471.000000</td>\n",
              "      <td>21471.000000</td>\n",
              "      <td>21471.000000</td>\n",
              "      <td>21471.000000</td>\n",
              "      <td>1.935100e+04</td>\n",
              "    </tr>\n",
              "    <tr>\n",
              "      <th>mean</th>\n",
              "      <td>0.539565</td>\n",
              "      <td>63046.497661</td>\n",
              "      <td>43.279074</td>\n",
              "      <td>0.817195</td>\n",
              "      <td>0.973685</td>\n",
              "      <td>0.081086</td>\n",
              "      <td>1.674223e+05</td>\n",
              "    </tr>\n",
              "    <tr>\n",
              "      <th>std</th>\n",
              "      <td>1.382978</td>\n",
              "      <td>140827.311974</td>\n",
              "      <td>12.574291</td>\n",
              "      <td>0.548508</td>\n",
              "      <td>1.421082</td>\n",
              "      <td>0.272974</td>\n",
              "      <td>1.029716e+05</td>\n",
              "    </tr>\n",
              "    <tr>\n",
              "      <th>min</th>\n",
              "      <td>-1.000000</td>\n",
              "      <td>-18388.949901</td>\n",
              "      <td>0.000000</td>\n",
              "      <td>0.000000</td>\n",
              "      <td>0.000000</td>\n",
              "      <td>0.000000</td>\n",
              "      <td>2.066726e+04</td>\n",
              "    </tr>\n",
              "    <tr>\n",
              "      <th>25%</th>\n",
              "      <td>0.000000</td>\n",
              "      <td>-2747.423625</td>\n",
              "      <td>33.000000</td>\n",
              "      <td>1.000000</td>\n",
              "      <td>0.000000</td>\n",
              "      <td>0.000000</td>\n",
              "      <td>1.030532e+05</td>\n",
              "    </tr>\n",
              "    <tr>\n",
              "      <th>50%</th>\n",
              "      <td>0.000000</td>\n",
              "      <td>-1203.369529</td>\n",
              "      <td>42.000000</td>\n",
              "      <td>1.000000</td>\n",
              "      <td>0.000000</td>\n",
              "      <td>0.000000</td>\n",
              "      <td>1.450179e+05</td>\n",
              "    </tr>\n",
              "    <tr>\n",
              "      <th>75%</th>\n",
              "      <td>1.000000</td>\n",
              "      <td>-291.095954</td>\n",
              "      <td>53.000000</td>\n",
              "      <td>1.000000</td>\n",
              "      <td>1.000000</td>\n",
              "      <td>0.000000</td>\n",
              "      <td>2.034351e+05</td>\n",
              "    </tr>\n",
              "    <tr>\n",
              "      <th>max</th>\n",
              "      <td>20.000000</td>\n",
              "      <td>401755.400475</td>\n",
              "      <td>75.000000</td>\n",
              "      <td>4.000000</td>\n",
              "      <td>4.000000</td>\n",
              "      <td>1.000000</td>\n",
              "      <td>2.265604e+06</td>\n",
              "    </tr>\n",
              "  </tbody>\n",
              "</table>\n",
              "</div>"
            ],
            "text/plain": [
              "           children  days_employed  ...          debt  total_income\n",
              "count  21471.000000   19351.000000  ...  21471.000000  1.935100e+04\n",
              "mean       0.539565   63046.497661  ...      0.081086  1.674223e+05\n",
              "std        1.382978  140827.311974  ...      0.272974  1.029716e+05\n",
              "min       -1.000000  -18388.949901  ...      0.000000  2.066726e+04\n",
              "25%        0.000000   -2747.423625  ...      0.000000  1.030532e+05\n",
              "50%        0.000000   -1203.369529  ...      0.000000  1.450179e+05\n",
              "75%        1.000000    -291.095954  ...      0.000000  2.034351e+05\n",
              "max       20.000000  401755.400475  ...      1.000000  2.265604e+06\n",
              "\n",
              "[8 rows x 7 columns]"
            ]
          },
          "metadata": {
            "tags": []
          },
          "execution_count": 283
        }
      ]
    },
    {
      "cell_type": "code",
      "metadata": {
        "id": "Fd_JCBotvqbI",
        "colab": {
          "base_uri": "https://localhost:8080/",
          "height": 173
        },
        "outputId": "f0637379-b556-4a18-8ac0-98b8d9c3d9d3"
      },
      "source": [
        "df[['education','family_status','gender','income_type','purpose']].describe()"
      ],
      "execution_count": 284,
      "outputs": [
        {
          "output_type": "execute_result",
          "data": {
            "text/html": [
              "<div>\n",
              "<style scoped>\n",
              "    .dataframe tbody tr th:only-of-type {\n",
              "        vertical-align: middle;\n",
              "    }\n",
              "\n",
              "    .dataframe tbody tr th {\n",
              "        vertical-align: top;\n",
              "    }\n",
              "\n",
              "    .dataframe thead th {\n",
              "        text-align: right;\n",
              "    }\n",
              "</style>\n",
              "<table border=\"1\" class=\"dataframe\">\n",
              "  <thead>\n",
              "    <tr style=\"text-align: right;\">\n",
              "      <th></th>\n",
              "      <th>education</th>\n",
              "      <th>family_status</th>\n",
              "      <th>gender</th>\n",
              "      <th>income_type</th>\n",
              "      <th>purpose</th>\n",
              "    </tr>\n",
              "  </thead>\n",
              "  <tbody>\n",
              "    <tr>\n",
              "      <th>count</th>\n",
              "      <td>21471</td>\n",
              "      <td>21471</td>\n",
              "      <td>21471</td>\n",
              "      <td>21471</td>\n",
              "      <td>21471</td>\n",
              "    </tr>\n",
              "    <tr>\n",
              "      <th>unique</th>\n",
              "      <td>15</td>\n",
              "      <td>5</td>\n",
              "      <td>3</td>\n",
              "      <td>8</td>\n",
              "      <td>38</td>\n",
              "    </tr>\n",
              "    <tr>\n",
              "      <th>top</th>\n",
              "      <td>среднее</td>\n",
              "      <td>женат / замужем</td>\n",
              "      <td>F</td>\n",
              "      <td>сотрудник</td>\n",
              "      <td>свадьба</td>\n",
              "    </tr>\n",
              "    <tr>\n",
              "      <th>freq</th>\n",
              "      <td>13705</td>\n",
              "      <td>12344</td>\n",
              "      <td>14189</td>\n",
              "      <td>11091</td>\n",
              "      <td>793</td>\n",
              "    </tr>\n",
              "  </tbody>\n",
              "</table>\n",
              "</div>"
            ],
            "text/plain": [
              "       education    family_status gender income_type  purpose\n",
              "count      21471            21471  21471       21471    21471\n",
              "unique        15                5      3           8       38\n",
              "top      среднее  женат / замужем      F   сотрудник  свадьба\n",
              "freq       13705            12344  14189       11091      793"
            ]
          },
          "metadata": {
            "tags": []
          },
          "execution_count": 284
        }
      ]
    },
    {
      "cell_type": "markdown",
      "metadata": {
        "id": "5GgVI3d8vqbI"
      },
      "source": [
        "### Вывод по качеству данных (Этап 1). \n",
        "По колонкам:\n",
        "- children (количество детей в семье). Отрицательное минимальное значение и  слишком высокое максимальное значение. Медиана = 0, т.е более чем у половины заемщиков детей нет.\n",
        "- days_employed (трудовой стаж в днях). Большая часть значений отрицательные (минимум до 75% процентиля) и слишком высокое максимальное значение (401755/365=1100 лет). Тип данных float можно поменять на integer. Около 2000 записей отсутствует.\n",
        "- dob_years (возраст клиента в годах). Есть нулевые значения. Можно предположить близкое к нормальному распределение, т.к. медиана почти совпадает со средней.\n",
        "- education (образование клиента), education_id (идентификатор образования). Несовпадает число уникальных значений в education и в education_id (15 vs 5) - необходимо проверить. Колонки дублируют друг  друга - одну можно удалить.\n",
        "- family_status (семейное положение), family_status_id (идентификатор семейного положения). Всего 5 уникальных значений. Колонки дублируют друг  друга - одну можно удалить.\n",
        "- gender (пол клиента).  3 уникальных пола - возможно это ошибка.\n",
        "- income_type (тип занятости). 8 уникальных значений.\n",
        "- debt (имел ли задолженность по возврату кредитов) - принимает 2 значения, по сути bollean\n",
        "- total_income (доход в месяц). Около 2000 записей отсутствует. Число записей равно числу записей в days_employed. Возможно пропуски - это безработные или это ошибка. Проверить по income_type. Тип данных float можно поменять на integer\n",
        "- purpose (цель получения кредита). 38 уникальных целей. Слишком много для анализа. Возможно нужно сделать несколько категорий."
      ]
    },
    {
      "cell_type": "markdown",
      "metadata": {
        "id": "BEPJYjOuvqbK"
      },
      "source": [
        "### Этап 2. Предобработка данных"
      ]
    },
    {
      "cell_type": "markdown",
      "metadata": {
        "id": "yfk3XnA7vqbL"
      },
      "source": [
        "#### Столбец children. Посмотрим на распределение кол-ва детей и исправим ошибки"
      ]
    },
    {
      "cell_type": "code",
      "metadata": {
        "colab": {
          "base_uri": "https://localhost:8080/",
          "height": 404
        },
        "id": "_FWdEysoTQKZ",
        "outputId": "9b6b1647-b025-43dd-cc46-e1a37b36bc43"
      },
      "source": [
        "df['children'].hist(bins=30, figsize=(12,6))\n",
        "plt.title('Распределение кол-ва детей')\n",
        "plt.xlabel('Кол-во детей')\n",
        "plt.ylabel('Частота')\n",
        "plt.show()"
      ],
      "execution_count": 285,
      "outputs": [
        {
          "output_type": "display_data",
          "data": {
            "image/png": "[encoded data removed]",
            "text/plain": [
              "<Figure size 864x432 with 1 Axes>"
            ]
          },
          "metadata": {
            "tags": [],
            "needs_background": "light"
          }
        }
      ]
    },
    {
      "cell_type": "code",
      "metadata": {
        "scrolled": true,
        "id": "c012kq-KvqbM",
        "colab": {
          "base_uri": "https://localhost:8080/"
        },
        "outputId": "1960a5cd-85e2-4805-c386-391a00ccf29f"
      },
      "source": [
        "df['children'].value_counts()"
      ],
      "execution_count": 286,
      "outputs": [
        {
          "output_type": "execute_result",
          "data": {
            "text/plain": [
              " 0     14107\n",
              " 1      4809\n",
              " 2      2052\n",
              " 3       330\n",
              " 20       76\n",
              "-1        47\n",
              " 4        41\n",
              " 5         9\n",
              "Name: children, dtype: int64"
            ]
          },
          "metadata": {
            "tags": []
          },
          "execution_count": 286
        }
      ]
    },
    {
      "cell_type": "code",
      "metadata": {
        "id": "WlRSBLrnvqbP",
        "colab": {
          "base_uri": "https://localhost:8080/"
        },
        "outputId": "beeb3cc9-7427-4087-ef9c-58e6830e9c92"
      },
      "source": [
        "df['children'] = df['children'].replace([-1,20],[1,2])\n",
        "df['children'].value_counts()"
      ],
      "execution_count": 287,
      "outputs": [
        {
          "output_type": "execute_result",
          "data": {
            "text/plain": [
              "0    14107\n",
              "1     4856\n",
              "2     2128\n",
              "3      330\n",
              "4       41\n",
              "5        9\n",
              "Name: children, dtype: int64"
            ]
          },
          "metadata": {
            "tags": []
          },
          "execution_count": 287
        }
      ]
    },
    {
      "cell_type": "markdown",
      "metadata": {
        "id": "4frJwsgwvqbN"
      },
      "source": [
        "<b>Вывод:</b>  Значения 20 и -1 явно ошибочны. В целом процент ошибок небольшой ((76+47)/21471 = 0.6%) По условиям задачи это опечатки, поэтому меняем на 2 и 1 соответственно."
      ]
    },
    {
      "cell_type": "markdown",
      "metadata": {
        "id": "1Y7FgQ2evqbQ"
      },
      "source": [
        "#### Проверяем dob_years на ошибки:"
      ]
    },
    {
      "cell_type": "code",
      "metadata": {
        "colab": {
          "base_uri": "https://localhost:8080/",
          "height": 404
        },
        "id": "foRz7yWdWthV",
        "outputId": "ebd9c1e8-f24a-4ccf-d7cc-08964d7cba1c"
      },
      "source": [
        "df['dob_years'].hist(bins=100, figsize=(12,6))\n",
        "plt.title('Распределение по возрасту')\n",
        "plt.xlabel('Возраст')\n",
        "plt.ylabel('Частота')\n",
        "plt.show()"
      ],
      "execution_count": 288,
      "outputs": [
        {
          "output_type": "display_data",
          "data": {
            "image/png": "[encoded data removed]",
            "text/plain": [
              "<Figure size 864x432 with 1 Axes>"
            ]
          },
          "metadata": {
            "tags": [],
            "needs_background": "light"
          }
        }
      ]
    },
    {
      "cell_type": "code",
      "metadata": {
        "id": "JTg3L9sMvqbQ",
        "colab": {
          "base_uri": "https://localhost:8080/"
        },
        "outputId": "83737347-a787-480e-d151-4209f46ad2ae"
      },
      "source": [
        "df[df['dob_years']==0]['dob_years'].count()"
      ],
      "execution_count": 289,
      "outputs": [
        {
          "output_type": "execute_result",
          "data": {
            "text/plain": [
              "101"
            ]
          },
          "metadata": {
            "tags": []
          },
          "execution_count": 289
        }
      ]
    },
    {
      "cell_type": "markdown",
      "metadata": {
        "id": "KMdgWuievqbQ"
      },
      "source": [
        "<b>Вывод:</b>  Значение 0 явно ошибочно (дети до года кредиты не берут). Доля этих ошибок небольшая (101/21471 = 0.5%) от общего числа записей. Заменяем 0 на среднее с группировкой по income_type, так это позволит подобрать более точный возраст по группам (пенсионеры, студенты и т.п.)."
      ]
    },
    {
      "cell_type": "code",
      "metadata": {
        "id": "WQs_keAivqbR",
        "colab": {
          "base_uri": "https://localhost:8080/"
        },
        "outputId": "4980714b-4195-4ead-9336-9c91e92c681c"
      },
      "source": [
        "for income_type in df['income_type'].unique():\n",
        "    mean = round(df[df['income_type']==income_type]['dob_years'].mean(),1)\n",
        "    print(income_type, mean)\n",
        "    df.loc[(df['dob_years']==0)&(df['income_type']==income_type),'dob_years'] = mean"
      ],
      "execution_count": 290,
      "outputs": [
        {
          "output_type": "stream",
          "text": [
            "сотрудник 39.8\n",
            "пенсионер 59.1\n",
            "компаньон 39.7\n",
            "госслужащий 40.6\n",
            "безработный 38.0\n",
            "предприниматель 42.5\n",
            "студент 22.0\n",
            "в декрете 39.0\n"
          ],
          "name": "stdout"
        }
      ]
    },
    {
      "cell_type": "code",
      "metadata": {
        "id": "NimYcabmvqbR",
        "colab": {
          "base_uri": "https://localhost:8080/"
        },
        "outputId": "9f1ff1e9-984e-435a-945b-7b1ac14f5298"
      },
      "source": [
        "df[df['dob_years']==0]['dob_years'].count()"
      ],
      "execution_count": 291,
      "outputs": [
        {
          "output_type": "execute_result",
          "data": {
            "text/plain": [
              "0"
            ]
          },
          "metadata": {
            "tags": []
          },
          "execution_count": 291
        }
      ]
    },
    {
      "cell_type": "markdown",
      "metadata": {
        "id": "K7524z2KvqbR"
      },
      "source": [
        "Вариант кода:\n",
        "    \n",
        "`df['dob_years'] = df.groupby('income_type')['dob_years'].transform(lambda x: x.replace(0, int(x.median())))`\n"
      ]
    },
    {
      "cell_type": "markdown",
      "metadata": {
        "id": "a_XCPFmUvqbR"
      },
      "source": [
        "#### Проверка education и education_id на ошибки"
      ]
    },
    {
      "cell_type": "code",
      "metadata": {
        "id": "8K4AmSh3vqbS",
        "colab": {
          "base_uri": "https://localhost:8080/"
        },
        "outputId": "c17bb69e-9943-485d-d8c6-bba219ae3034"
      },
      "source": [
        "df.groupby(['education_id','education'])['education_id'].count()"
      ],
      "execution_count": 292,
      "outputs": [
        {
          "output_type": "execute_result",
          "data": {
            "text/plain": [
              "education_id  education          \n",
              "0             ВЫСШЕЕ                   273\n",
              "              Высшее                   268\n",
              "              высшее                  4710\n",
              "1             СРЕДНЕЕ                  772\n",
              "              Среднее                  711\n",
              "              среднее                13705\n",
              "2             НЕОКОНЧЕННОЕ ВЫСШЕЕ       29\n",
              "              Неоконченное высшее       47\n",
              "              неоконченное высшее      668\n",
              "3             НАЧАЛЬНОЕ                 17\n",
              "              Начальное                 15\n",
              "              начальное                250\n",
              "4             УЧЕНАЯ СТЕПЕНЬ             1\n",
              "              Ученая степень             1\n",
              "              ученая степень             4\n",
              "Name: education_id, dtype: int64"
            ]
          },
          "metadata": {
            "tags": []
          },
          "execution_count": 292
        }
      ]
    },
    {
      "cell_type": "code",
      "metadata": {
        "id": "p5bGrnCRvqbS",
        "colab": {
          "base_uri": "https://localhost:8080/"
        },
        "outputId": "c1b2ddbe-31ef-47cc-d577-8a2e9d10d57c"
      },
      "source": [
        "df['education'] = df['education'].str.lower()\n",
        "df.groupby(['education_id','education'])['education_id'].count()"
      ],
      "execution_count": 293,
      "outputs": [
        {
          "output_type": "execute_result",
          "data": {
            "text/plain": [
              "education_id  education          \n",
              "0             высшее                  5251\n",
              "1             среднее                15188\n",
              "2             неоконченное высшее      744\n",
              "3             начальное                282\n",
              "4             ученая степень             6\n",
              "Name: education_id, dtype: int64"
            ]
          },
          "metadata": {
            "tags": []
          },
          "execution_count": 293
        }
      ]
    },
    {
      "cell_type": "code",
      "metadata": {
        "id": "szRlc27ZaJAY"
      },
      "source": [
        "df.drop('education_id', axis=1, inplace=True)"
      ],
      "execution_count": 294,
      "outputs": []
    },
    {
      "cell_type": "markdown",
      "metadata": {
        "id": "1ySzKd56vqbS"
      },
      "source": [
        "<b>Вывод:</b> В education есть неполные дубли. Поэтому привели все к нижнему регистру и дропнули лишнюю колонку education_id. Большая часть заемщиков имеет среднее образование."
      ]
    },
    {
      "cell_type": "markdown",
      "metadata": {
        "id": "tkEn8Ct-vqbT"
      },
      "source": [
        "#### Проверка  family_status и family_status_id на ошибки"
      ]
    },
    {
      "cell_type": "code",
      "metadata": {
        "id": "DqHQnVMJvqbU",
        "colab": {
          "base_uri": "https://localhost:8080/"
        },
        "outputId": "4deadfba-32e8-4fd5-863e-d3ff73a74e65"
      },
      "source": [
        "df.groupby(['family_status_id','family_status'])['family_status_id'].count()"
      ],
      "execution_count": 295,
      "outputs": [
        {
          "output_type": "execute_result",
          "data": {
            "text/plain": [
              "family_status_id  family_status        \n",
              "0                 женат / замужем          12344\n",
              "1                 гражданский брак          4163\n",
              "2                 вдовец / вдова             959\n",
              "3                 в разводе                 1195\n",
              "4                 Не женат / не замужем     2810\n",
              "Name: family_status_id, dtype: int64"
            ]
          },
          "metadata": {
            "tags": []
          },
          "execution_count": 295
        }
      ]
    },
    {
      "cell_type": "code",
      "metadata": {
        "id": "OdBEH9ODvqbV",
        "colab": {
          "base_uri": "https://localhost:8080/"
        },
        "outputId": "3e130014-a536-4384-f837-e693b976b09c"
      },
      "source": [
        "df['family_status'] = df['family_status'].str.lower()\n",
        "df.groupby(['family_status_id','family_status'])['family_status_id'].count()"
      ],
      "execution_count": 296,
      "outputs": [
        {
          "output_type": "execute_result",
          "data": {
            "text/plain": [
              "family_status_id  family_status        \n",
              "0                 женат / замужем          12344\n",
              "1                 гражданский брак          4163\n",
              "2                 вдовец / вдова             959\n",
              "3                 в разводе                 1195\n",
              "4                 не женат / не замужем     2810\n",
              "Name: family_status_id, dtype: int64"
            ]
          },
          "metadata": {
            "tags": []
          },
          "execution_count": 296
        }
      ]
    },
    {
      "cell_type": "code",
      "metadata": {
        "id": "WOQj74tZ1Igh"
      },
      "source": [
        "df.drop('family_status_id', axis=1, inplace=True)"
      ],
      "execution_count": 297,
      "outputs": []
    },
    {
      "cell_type": "markdown",
      "metadata": {
        "id": "9HJa9-qavqbU"
      },
      "source": [
        "<b>Вывод:</b>  Большая часть заемщиков женаты/замужем. Для красоты привели к нижнему регистру и убрали колонку family_status_id"
      ]
    },
    {
      "cell_type": "markdown",
      "metadata": {
        "id": "CNkNc4ZBvqbV"
      },
      "source": [
        "#### Проверка gender на ошибки."
      ]
    },
    {
      "cell_type": "code",
      "metadata": {
        "id": "Re7zTfX5vqbV",
        "colab": {
          "base_uri": "https://localhost:8080/"
        },
        "outputId": "726e1ece-40f2-4053-8c96-31844a2458bd"
      },
      "source": [
        "df['gender'].value_counts()"
      ],
      "execution_count": 298,
      "outputs": [
        {
          "output_type": "execute_result",
          "data": {
            "text/plain": [
              "F      14189\n",
              "M       7281\n",
              "XNA        1\n",
              "Name: gender, dtype: int64"
            ]
          },
          "metadata": {
            "tags": []
          },
          "execution_count": 298
        }
      ]
    },
    {
      "cell_type": "code",
      "metadata": {
        "id": "Q9UoriwZvqbX",
        "colab": {
          "base_uri": "https://localhost:8080/"
        },
        "outputId": "ffbe341d-6d90-4145-85dd-fd01315f5b70"
      },
      "source": [
        "df['gender'] = df['gender'].replace('XNA','F')\n",
        "df['gender'].value_counts()"
      ],
      "execution_count": 299,
      "outputs": [
        {
          "output_type": "execute_result",
          "data": {
            "text/plain": [
              "F    14190\n",
              "M     7281\n",
              "Name: gender, dtype: int64"
            ]
          },
          "metadata": {
            "tags": []
          },
          "execution_count": 299
        }
      ]
    },
    {
      "cell_type": "markdown",
      "metadata": {
        "id": "Ghv5fvBnvqbX"
      },
      "source": [
        "<b>Вывод:</b>  Пол XNA - ошибка. Заменили на наиболее популярный пол."
      ]
    },
    {
      "cell_type": "markdown",
      "metadata": {
        "id": "34dQ7j1mvqbX"
      },
      "source": [
        "#### Проверка income_type на ошибки."
      ]
    },
    {
      "cell_type": "code",
      "metadata": {
        "id": "00H7G4QrvqbY",
        "colab": {
          "base_uri": "https://localhost:8080/"
        },
        "outputId": "1799f50a-3bd3-4d8f-caac-b1c7bd9d705f"
      },
      "source": [
        "df['income_type'].value_counts()"
      ],
      "execution_count": 300,
      "outputs": [
        {
          "output_type": "execute_result",
          "data": {
            "text/plain": [
              "сотрудник          11091\n",
              "компаньон           5080\n",
              "пенсионер           3837\n",
              "госслужащий         1457\n",
              "предприниматель        2\n",
              "безработный            2\n",
              "студент                1\n",
              "в декрете              1\n",
              "Name: income_type, dtype: int64"
            ]
          },
          "metadata": {
            "tags": []
          },
          "execution_count": 300
        }
      ]
    },
    {
      "cell_type": "markdown",
      "metadata": {
        "id": "tWRTDsmkvqbY"
      },
      "source": [
        "<b>Вывод:</b>  Все ОК"
      ]
    },
    {
      "cell_type": "markdown",
      "metadata": {
        "id": "9tMpYYyvvqbY"
      },
      "source": [
        "#### Проверка debt"
      ]
    },
    {
      "cell_type": "code",
      "metadata": {
        "id": "vZhJ7-34vqbY",
        "colab": {
          "base_uri": "https://localhost:8080/"
        },
        "outputId": "1b2c6e2e-0bfc-4d9b-8374-04c707e2c04a"
      },
      "source": [
        "df['debt'].value_counts()"
      ],
      "execution_count": 301,
      "outputs": [
        {
          "output_type": "execute_result",
          "data": {
            "text/plain": [
              "0    19730\n",
              "1     1741\n",
              "Name: debt, dtype: int64"
            ]
          },
          "metadata": {
            "tags": []
          },
          "execution_count": 301
        }
      ]
    },
    {
      "cell_type": "markdown",
      "metadata": {
        "id": "5A4WuGf8vqbZ"
      },
      "source": [
        "<b>Вывод:</b>  Все ОК"
      ]
    },
    {
      "cell_type": "markdown",
      "metadata": {
        "id": "4DZi8tcFvqbZ"
      },
      "source": [
        "#### Проверка total_income и days_employed"
      ]
    },
    {
      "cell_type": "markdown",
      "metadata": {
        "id": "fp94j8Ezr8Wn"
      },
      "source": [
        "Проверяем вместе так как есть подозрение, что пропуски данных в этих столбцах связаны.Посмотрим на строчки с пропусками в обоих столбцах:"
      ]
    },
    {
      "cell_type": "code",
      "metadata": {
        "id": "KwkPQeFrvqbZ",
        "colab": {
          "base_uri": "https://localhost:8080/",
          "height": 204
        },
        "outputId": "c2afd033-32d3-429c-a44c-24f36998736e"
      },
      "source": [
        "df[(df['total_income'].isnull())&(df['days_employed'].isnull())].head()"
      ],
      "execution_count": 302,
      "outputs": [
        {
          "output_type": "execute_result",
          "data": {
            "text/html": [
              "<div>\n",
              "<style scoped>\n",
              "    .dataframe tbody tr th:only-of-type {\n",
              "        vertical-align: middle;\n",
              "    }\n",
              "\n",
              "    .dataframe tbody tr th {\n",
              "        vertical-align: top;\n",
              "    }\n",
              "\n",
              "    .dataframe thead th {\n",
              "        text-align: right;\n",
              "    }\n",
              "</style>\n",
              "<table border=\"1\" class=\"dataframe\">\n",
              "  <thead>\n",
              "    <tr style=\"text-align: right;\">\n",
              "      <th></th>\n",
              "      <th>children</th>\n",
              "      <th>days_employed</th>\n",
              "      <th>dob_years</th>\n",
              "      <th>education</th>\n",
              "      <th>family_status</th>\n",
              "      <th>gender</th>\n",
              "      <th>income_type</th>\n",
              "      <th>debt</th>\n",
              "      <th>total_income</th>\n",
              "      <th>purpose</th>\n",
              "    </tr>\n",
              "  </thead>\n",
              "  <tbody>\n",
              "    <tr>\n",
              "      <th>12</th>\n",
              "      <td>0</td>\n",
              "      <td>NaN</td>\n",
              "      <td>65.0</td>\n",
              "      <td>среднее</td>\n",
              "      <td>гражданский брак</td>\n",
              "      <td>M</td>\n",
              "      <td>пенсионер</td>\n",
              "      <td>0</td>\n",
              "      <td>NaN</td>\n",
              "      <td>сыграть свадьбу</td>\n",
              "    </tr>\n",
              "    <tr>\n",
              "      <th>26</th>\n",
              "      <td>0</td>\n",
              "      <td>NaN</td>\n",
              "      <td>41.0</td>\n",
              "      <td>среднее</td>\n",
              "      <td>женат / замужем</td>\n",
              "      <td>M</td>\n",
              "      <td>госслужащий</td>\n",
              "      <td>0</td>\n",
              "      <td>NaN</td>\n",
              "      <td>образование</td>\n",
              "    </tr>\n",
              "    <tr>\n",
              "      <th>29</th>\n",
              "      <td>0</td>\n",
              "      <td>NaN</td>\n",
              "      <td>63.0</td>\n",
              "      <td>среднее</td>\n",
              "      <td>не женат / не замужем</td>\n",
              "      <td>F</td>\n",
              "      <td>пенсионер</td>\n",
              "      <td>0</td>\n",
              "      <td>NaN</td>\n",
              "      <td>строительство жилой недвижимости</td>\n",
              "    </tr>\n",
              "    <tr>\n",
              "      <th>41</th>\n",
              "      <td>0</td>\n",
              "      <td>NaN</td>\n",
              "      <td>50.0</td>\n",
              "      <td>среднее</td>\n",
              "      <td>женат / замужем</td>\n",
              "      <td>F</td>\n",
              "      <td>госслужащий</td>\n",
              "      <td>0</td>\n",
              "      <td>NaN</td>\n",
              "      <td>сделка с подержанным автомобилем</td>\n",
              "    </tr>\n",
              "    <tr>\n",
              "      <th>55</th>\n",
              "      <td>0</td>\n",
              "      <td>NaN</td>\n",
              "      <td>54.0</td>\n",
              "      <td>среднее</td>\n",
              "      <td>гражданский брак</td>\n",
              "      <td>F</td>\n",
              "      <td>пенсионер</td>\n",
              "      <td>1</td>\n",
              "      <td>NaN</td>\n",
              "      <td>сыграть свадьбу</td>\n",
              "    </tr>\n",
              "  </tbody>\n",
              "</table>\n",
              "</div>"
            ],
            "text/plain": [
              "    children  days_employed  ...  total_income                           purpose\n",
              "12         0            NaN  ...           NaN                   сыграть свадьбу\n",
              "26         0            NaN  ...           NaN                       образование\n",
              "29         0            NaN  ...           NaN  строительство жилой недвижимости\n",
              "41         0            NaN  ...           NaN  сделка с подержанным автомобилем\n",
              "55         0            NaN  ...           NaN                   сыграть свадьбу\n",
              "\n",
              "[5 rows x 10 columns]"
            ]
          },
          "metadata": {
            "tags": []
          },
          "execution_count": 302
        }
      ]
    },
    {
      "cell_type": "markdown",
      "metadata": {
        "id": "K7oigbo2vqbZ"
      },
      "source": [
        "Пустые значения total_income и days_employed совпадают. От числа записей всего это: 2174/21471 = 10%. Процент большой - удаление такого кол-ва строчек повляет на результат. total_income - логичнее заполнить медианой по типу занятости. Измеряем медиану в каждом типе и смотрим что получилось."
      ]
    },
    {
      "cell_type": "code",
      "metadata": {
        "id": "leB5cX9Fvqbb",
        "colab": {
          "base_uri": "https://localhost:8080/"
        },
        "outputId": "aad4e320-8a3c-4ca8-9d8e-e75e3c4056bb"
      },
      "source": [
        "group_income = df.groupby('income_type')['total_income'].median()\n",
        "group_income"
      ],
      "execution_count": 303,
      "outputs": [
        {
          "output_type": "execute_result",
          "data": {
            "text/plain": [
              "income_type\n",
              "безработный        131339.751676\n",
              "в декрете           53829.130729\n",
              "госслужащий        150447.935283\n",
              "компаньон          172357.950966\n",
              "пенсионер          118514.486412\n",
              "предприниматель    499163.144947\n",
              "сотрудник          142594.396847\n",
              "студент             98201.625314\n",
              "Name: total_income, dtype: float64"
            ]
          },
          "metadata": {
            "tags": []
          },
          "execution_count": 303
        }
      ]
    },
    {
      "cell_type": "markdown",
      "metadata": {
        "id": "8k1CY_L1vqbb"
      },
      "source": [
        "У разных типах занятости действительно разные медианы дохода. Заполняем пропуски этими медианами и проверяем: "
      ]
    },
    {
      "cell_type": "code",
      "metadata": {
        "id": "8dnYzeHmvqbb",
        "colab": {
          "base_uri": "https://localhost:8080/"
        },
        "outputId": "0252c70c-f8ec-42ae-ddec-5c6d01189f23"
      },
      "source": [
        "for i in group_income.index:\n",
        "    df.loc[(df['income_type'] == i) & (df['total_income'].isnull()), 'total_income'] = group_income[i]\n",
        "\n",
        "df['total_income'].isnull().sum()"
      ],
      "execution_count": 304,
      "outputs": [
        {
          "output_type": "execute_result",
          "data": {
            "text/plain": [
              "0"
            ]
          },
          "metadata": {
            "tags": []
          },
          "execution_count": 304
        }
      ]
    },
    {
      "cell_type": "markdown",
      "metadata": {
        "id": "nFPFiFKDsWRX"
      },
      "source": [
        "Вариант кода:\n",
        "```\n",
        "med_salary = df.groupby('income_type')['total_income'].transform('median')\n",
        "df['total_income'] = df['total_income'].fillna(med_salary)\n",
        "```\n",
        "\n",
        "\n"
      ]
    },
    {
      "cell_type": "markdown",
      "metadata": {
        "id": "UIkh-ehWvqbb"
      },
      "source": [
        "Для удобства анализа стажа добавим стаж в годах на основе days_employed и посмотрим на статистику:"
      ]
    },
    {
      "cell_type": "code",
      "metadata": {
        "id": "LviT2CYGvqbc",
        "colab": {
          "base_uri": "https://localhost:8080/"
        },
        "outputId": "a7f80253-f2b0-4aa5-a2e6-891f22b9abdb"
      },
      "source": [
        "df['years_employed'] = df['days_employed'] / 365\n",
        "df['years_employed'].agg(['mean','median','min','max'])"
      ],
      "execution_count": 305,
      "outputs": [
        {
          "output_type": "execute_result",
          "data": {
            "text/plain": [
              "mean       172.730131\n",
              "median      -3.296903\n",
              "min        -50.380685\n",
              "max       1100.699727\n",
              "Name: years_employed, dtype: float64"
            ]
          },
          "metadata": {
            "tags": []
          },
          "execution_count": 305
        }
      ]
    },
    {
      "cell_type": "markdown",
      "metadata": {
        "id": "hKayJ72qvqbc"
      },
      "source": [
        "Видим, что большая часть значений отрицательная (медиана ниже 0), ошибочные положительные значения увеличивают среднюю до нереальных цифр. Предполагаем что в некоторых типах занятости стаж указан в часах, которые можно перевести в годы. Проверим разброс значений в каждом income_type:"
      ]
    },
    {
      "cell_type": "code",
      "metadata": {
        "id": "RKuQsWfbvqbe",
        "colab": {
          "base_uri": "https://localhost:8080/",
          "height": 328
        },
        "outputId": "a39f6e24-5f27-4106-f8ee-d7af6ae5901c"
      },
      "source": [
        "df.groupby('income_type')['years_employed'].agg(['count','mean','median','min','max'])"
      ],
      "execution_count": 306,
      "outputs": [
        {
          "output_type": "execute_result",
          "data": {
            "text/html": [
              "<div>\n",
              "<style scoped>\n",
              "    .dataframe tbody tr th:only-of-type {\n",
              "        vertical-align: middle;\n",
              "    }\n",
              "\n",
              "    .dataframe tbody tr th {\n",
              "        vertical-align: top;\n",
              "    }\n",
              "\n",
              "    .dataframe thead th {\n",
              "        text-align: right;\n",
              "    }\n",
              "</style>\n",
              "<table border=\"1\" class=\"dataframe\">\n",
              "  <thead>\n",
              "    <tr style=\"text-align: right;\">\n",
              "      <th></th>\n",
              "      <th>count</th>\n",
              "      <th>mean</th>\n",
              "      <th>median</th>\n",
              "      <th>min</th>\n",
              "      <th>max</th>\n",
              "    </tr>\n",
              "    <tr>\n",
              "      <th>income_type</th>\n",
              "      <th></th>\n",
              "      <th></th>\n",
              "      <th></th>\n",
              "      <th></th>\n",
              "      <th></th>\n",
              "    </tr>\n",
              "  </thead>\n",
              "  <tbody>\n",
              "    <tr>\n",
              "      <th>безработный</th>\n",
              "      <td>2</td>\n",
              "      <td>1003.873021</td>\n",
              "      <td>1003.873021</td>\n",
              "      <td>924.724567</td>\n",
              "      <td>1083.021476</td>\n",
              "    </tr>\n",
              "    <tr>\n",
              "      <th>в декрете</th>\n",
              "      <td>1</td>\n",
              "      <td>-9.032219</td>\n",
              "      <td>-9.032219</td>\n",
              "      <td>-9.032219</td>\n",
              "      <td>-9.032219</td>\n",
              "    </tr>\n",
              "    <tr>\n",
              "      <th>госслужащий</th>\n",
              "      <td>1312</td>\n",
              "      <td>-9.314786</td>\n",
              "      <td>-7.368132</td>\n",
              "      <td>-41.624746</td>\n",
              "      <td>-0.109463</td>\n",
              "    </tr>\n",
              "    <tr>\n",
              "      <th>компаньон</th>\n",
              "      <td>4577</td>\n",
              "      <td>-5.784998</td>\n",
              "      <td>-4.239403</td>\n",
              "      <td>-48.261817</td>\n",
              "      <td>-0.082727</td>\n",
              "    </tr>\n",
              "    <tr>\n",
              "      <th>пенсионер</th>\n",
              "      <td>3443</td>\n",
              "      <td>1000.009565</td>\n",
              "      <td>1000.584401</td>\n",
              "      <td>900.626632</td>\n",
              "      <td>1100.699727</td>\n",
              "    </tr>\n",
              "    <tr>\n",
              "      <th>предприниматель</th>\n",
              "      <td>1</td>\n",
              "      <td>-1.426981</td>\n",
              "      <td>-1.426981</td>\n",
              "      <td>-1.426981</td>\n",
              "      <td>-1.426981</td>\n",
              "    </tr>\n",
              "    <tr>\n",
              "      <th>сотрудник</th>\n",
              "      <td>10014</td>\n",
              "      <td>-6.373970</td>\n",
              "      <td>-4.312884</td>\n",
              "      <td>-50.380685</td>\n",
              "      <td>-0.066141</td>\n",
              "    </tr>\n",
              "    <tr>\n",
              "      <th>студент</th>\n",
              "      <td>1</td>\n",
              "      <td>-1.585621</td>\n",
              "      <td>-1.585621</td>\n",
              "      <td>-1.585621</td>\n",
              "      <td>-1.585621</td>\n",
              "    </tr>\n",
              "  </tbody>\n",
              "</table>\n",
              "</div>"
            ],
            "text/plain": [
              "                 count         mean       median         min          max\n",
              "income_type                                                              \n",
              "безработный          2  1003.873021  1003.873021  924.724567  1083.021476\n",
              "в декрете            1    -9.032219    -9.032219   -9.032219    -9.032219\n",
              "госслужащий       1312    -9.314786    -7.368132  -41.624746    -0.109463\n",
              "компаньон         4577    -5.784998    -4.239403  -48.261817    -0.082727\n",
              "пенсионер         3443  1000.009565  1000.584401  900.626632  1100.699727\n",
              "предприниматель      1    -1.426981    -1.426981   -1.426981    -1.426981\n",
              "сотрудник        10014    -6.373970    -4.312884  -50.380685    -0.066141\n",
              "студент              1    -1.585621    -1.585621   -1.585621    -1.585621"
            ]
          },
          "metadata": {
            "tags": []
          },
          "execution_count": 306
        }
      ]
    },
    {
      "cell_type": "markdown",
      "metadata": {
        "id": "mFFWKcZzvqbe"
      },
      "source": [
        "Безработные и пенсионеры имеют положительные значения которые можно поделить на 24 и получить реалистичные значения в годах."
      ]
    },
    {
      "cell_type": "code",
      "metadata": {
        "id": "nyBRoSWqvqbf"
      },
      "source": [
        "def hours_to_days(row):\n",
        "    if row['income_type'] == 'безработный' or row['income_type'] == 'пенсионер':\n",
        "        return row['years_employed']/24\n",
        "    else:\n",
        "        return row['years_employed']\n",
        "\n",
        "df['years_employed'] = df.apply(hours_to_days,axis=1)"
      ],
      "execution_count": 307,
      "outputs": []
    },
    {
      "cell_type": "markdown",
      "metadata": {
        "id": "yC5du54Mvqbf"
      },
      "source": [
        "Переводим отрицательные значения в положительные и смотрим что получилось:"
      ]
    },
    {
      "cell_type": "code",
      "metadata": {
        "id": "6F23bqe4vqbf",
        "colab": {
          "base_uri": "https://localhost:8080/",
          "height": 328
        },
        "outputId": "ec017e13-7fad-4cc8-b433-b090ab6b411c"
      },
      "source": [
        "df['years_employed'] = df['years_employed'].apply(abs)\n",
        "\n",
        "df.groupby('income_type')['years_employed'].agg(['count','mean','median','min','max'])"
      ],
      "execution_count": 308,
      "outputs": [
        {
          "output_type": "execute_result",
          "data": {
            "text/html": [
              "<div>\n",
              "<style scoped>\n",
              "    .dataframe tbody tr th:only-of-type {\n",
              "        vertical-align: middle;\n",
              "    }\n",
              "\n",
              "    .dataframe tbody tr th {\n",
              "        vertical-align: top;\n",
              "    }\n",
              "\n",
              "    .dataframe thead th {\n",
              "        text-align: right;\n",
              "    }\n",
              "</style>\n",
              "<table border=\"1\" class=\"dataframe\">\n",
              "  <thead>\n",
              "    <tr style=\"text-align: right;\">\n",
              "      <th></th>\n",
              "      <th>count</th>\n",
              "      <th>mean</th>\n",
              "      <th>median</th>\n",
              "      <th>min</th>\n",
              "      <th>max</th>\n",
              "    </tr>\n",
              "    <tr>\n",
              "      <th>income_type</th>\n",
              "      <th></th>\n",
              "      <th></th>\n",
              "      <th></th>\n",
              "      <th></th>\n",
              "      <th></th>\n",
              "    </tr>\n",
              "  </thead>\n",
              "  <tbody>\n",
              "    <tr>\n",
              "      <th>безработный</th>\n",
              "      <td>2</td>\n",
              "      <td>41.828043</td>\n",
              "      <td>41.828043</td>\n",
              "      <td>38.530190</td>\n",
              "      <td>45.125895</td>\n",
              "    </tr>\n",
              "    <tr>\n",
              "      <th>в декрете</th>\n",
              "      <td>1</td>\n",
              "      <td>9.032219</td>\n",
              "      <td>9.032219</td>\n",
              "      <td>9.032219</td>\n",
              "      <td>9.032219</td>\n",
              "    </tr>\n",
              "    <tr>\n",
              "      <th>госслужащий</th>\n",
              "      <td>1312</td>\n",
              "      <td>9.314786</td>\n",
              "      <td>7.368132</td>\n",
              "      <td>0.109463</td>\n",
              "      <td>41.624746</td>\n",
              "    </tr>\n",
              "    <tr>\n",
              "      <th>компаньон</th>\n",
              "      <td>4577</td>\n",
              "      <td>5.784998</td>\n",
              "      <td>4.239403</td>\n",
              "      <td>0.082727</td>\n",
              "      <td>48.261817</td>\n",
              "    </tr>\n",
              "    <tr>\n",
              "      <th>пенсионер</th>\n",
              "      <td>3443</td>\n",
              "      <td>41.667065</td>\n",
              "      <td>41.691017</td>\n",
              "      <td>37.526110</td>\n",
              "      <td>45.862489</td>\n",
              "    </tr>\n",
              "    <tr>\n",
              "      <th>предприниматель</th>\n",
              "      <td>1</td>\n",
              "      <td>1.426981</td>\n",
              "      <td>1.426981</td>\n",
              "      <td>1.426981</td>\n",
              "      <td>1.426981</td>\n",
              "    </tr>\n",
              "    <tr>\n",
              "      <th>сотрудник</th>\n",
              "      <td>10014</td>\n",
              "      <td>6.373970</td>\n",
              "      <td>4.312884</td>\n",
              "      <td>0.066141</td>\n",
              "      <td>50.380685</td>\n",
              "    </tr>\n",
              "    <tr>\n",
              "      <th>студент</th>\n",
              "      <td>1</td>\n",
              "      <td>1.585621</td>\n",
              "      <td>1.585621</td>\n",
              "      <td>1.585621</td>\n",
              "      <td>1.585621</td>\n",
              "    </tr>\n",
              "  </tbody>\n",
              "</table>\n",
              "</div>"
            ],
            "text/plain": [
              "                 count       mean     median        min        max\n",
              "income_type                                                       \n",
              "безработный          2  41.828043  41.828043  38.530190  45.125895\n",
              "в декрете            1   9.032219   9.032219   9.032219   9.032219\n",
              "госслужащий       1312   9.314786   7.368132   0.109463  41.624746\n",
              "компаньон         4577   5.784998   4.239403   0.082727  48.261817\n",
              "пенсионер         3443  41.667065  41.691017  37.526110  45.862489\n",
              "предприниматель      1   1.426981   1.426981   1.426981   1.426981\n",
              "сотрудник        10014   6.373970   4.312884   0.066141  50.380685\n",
              "студент              1   1.585621   1.585621   1.585621   1.585621"
            ]
          },
          "metadata": {
            "tags": []
          },
          "execution_count": 308
        }
      ]
    },
    {
      "cell_type": "markdown",
      "metadata": {
        "id": "H69gE0Zcvqbf"
      },
      "source": [
        "Заполняем пропуски по тому же принципу, что и в total income: медианой по каждому income_type. Проверяем "
      ]
    },
    {
      "cell_type": "code",
      "metadata": {
        "id": "z6KMY-0bvqbg",
        "colab": {
          "base_uri": "https://localhost:8080/"
        },
        "outputId": "d372bf8f-7e12-47c9-c47d-d736a4d3fc65"
      },
      "source": [
        "med_salary = df.groupby('income_type')['years_employed'].transform('median')\n",
        "df['years_employed'] = df['years_employed'].fillna(med_salary)\n",
        "\n",
        "df['years_employed'].isnull().sum()"
      ],
      "execution_count": 309,
      "outputs": [
        {
          "output_type": "execute_result",
          "data": {
            "text/plain": [
              "0"
            ]
          },
          "metadata": {
            "tags": []
          },
          "execution_count": 309
        }
      ]
    },
    {
      "cell_type": "markdown",
      "metadata": {
        "id": "3J2qp7aOvqbg"
      },
      "source": [
        "Пропусков данных в years_employed нет. Т.к. у нас стаж в годах, столбец days_employed не нужен - удаляем и проверяем: "
      ]
    },
    {
      "cell_type": "code",
      "metadata": {
        "id": "zigImuLhvqbg",
        "colab": {
          "base_uri": "https://localhost:8080/"
        },
        "outputId": "1ae8eba2-f086-4980-f379-a7f9e2669409"
      },
      "source": [
        "df = df.drop('days_employed', 1)\n",
        "df.info()"
      ],
      "execution_count": 310,
      "outputs": [
        {
          "output_type": "stream",
          "text": [
            "<class 'pandas.core.frame.DataFrame'>\n",
            "RangeIndex: 21471 entries, 0 to 21470\n",
            "Data columns (total 10 columns):\n",
            " #   Column          Non-Null Count  Dtype  \n",
            "---  ------          --------------  -----  \n",
            " 0   children        21471 non-null  int64  \n",
            " 1   dob_years       21471 non-null  float64\n",
            " 2   education       21471 non-null  object \n",
            " 3   family_status   21471 non-null  object \n",
            " 4   gender          21471 non-null  object \n",
            " 5   income_type     21471 non-null  object \n",
            " 6   debt            21471 non-null  int64  \n",
            " 7   total_income    21471 non-null  float64\n",
            " 8   purpose         21471 non-null  object \n",
            " 9   years_employed  21471 non-null  float64\n",
            "dtypes: float64(3), int64(2), object(5)\n",
            "memory usage: 1.6+ MB\n"
          ],
          "name": "stdout"
        }
      ]
    },
    {
      "cell_type": "markdown",
      "metadata": {
        "id": "Yuu2ZtrUvqbg"
      },
      "source": [
        "#### Проверка purpose"
      ]
    },
    {
      "cell_type": "code",
      "metadata": {
        "id": "VGD-_bc-vqbh",
        "colab": {
          "base_uri": "https://localhost:8080/"
        },
        "outputId": "47f2c9c5-28c6-49c6-952d-92f3c1b7723d"
      },
      "source": [
        "df['purpose'].value_counts()"
      ],
      "execution_count": 311,
      "outputs": [
        {
          "output_type": "execute_result",
          "data": {
            "text/plain": [
              "свадьба                                   793\n",
              "на проведение свадьбы                     773\n",
              "сыграть свадьбу                           769\n",
              "операции с недвижимостью                  675\n",
              "покупка коммерческой недвижимости         662\n",
              "операции с жильем                         652\n",
              "покупка жилья для сдачи                   652\n",
              "операции с коммерческой недвижимостью     650\n",
              "жилье                                     646\n",
              "покупка жилья                             646\n",
              "покупка жилья для семьи                   638\n",
              "строительство собственной недвижимости    635\n",
              "недвижимость                              633\n",
              "операции со своей недвижимостью           627\n",
              "строительство жилой недвижимости          625\n",
              "покупка недвижимости                      621\n",
              "покупка своего жилья                      620\n",
              "строительство недвижимости                619\n",
              "ремонт жилью                              607\n",
              "покупка жилой недвижимости                606\n",
              "на покупку своего автомобиля              505\n",
              "заняться высшим образованием              496\n",
              "автомобиль                                494\n",
              "сделка с подержанным автомобилем          486\n",
              "свой автомобиль                           479\n",
              "на покупку подержанного автомобиля        478\n",
              "автомобили                                478\n",
              "на покупку автомобиля                     472\n",
              "приобретение автомобиля                   461\n",
              "дополнительное образование                460\n",
              "сделка с автомобилем                      455\n",
              "высшее образование                        452\n",
              "образование                               447\n",
              "получение дополнительного образования     447\n",
              "получение образования                     442\n",
              "профильное образование                    436\n",
              "получение высшего образования             426\n",
              "заняться образованием                     408\n",
              "Name: purpose, dtype: int64"
            ]
          },
          "metadata": {
            "tags": []
          },
          "execution_count": 311
        }
      ]
    },
    {
      "cell_type": "markdown",
      "metadata": {
        "id": "TVMkVxmyvqbh"
      },
      "source": [
        "В purpose есть неполные дубли."
      ]
    },
    {
      "cell_type": "markdown",
      "metadata": {
        "id": "7XtmCwfTvqbh"
      },
      "source": [
        "### Вывод по пропускам и ошибкам\n",
        "С пропусками и ошибками сделали следующее:\n",
        "> - children (количество детей в семье) - выявили ошибки в кол-ве детей: -1 и 20, исправили на 1 и 20 соответственно, предполагая что это опечатки.\n",
        "> - days_employed (трудовой стаж в днях) - Выяснили что у пенсионеров и безработных положительные значения, у всех остальных отрицательные. При этом стаж у пенсионеров и безработных указан в часах. Привели все к единому формату в годах, колонка years_employed): пенсионеров и безработных поделили на 24; все значения поделили на 365 и сделали положительными). Пропуски заменили медианой в разбивке по income_type. days_employed удалили.\n",
        "> - dob_years (возраст клиента в годах). Значения равные 0 заменили на среднее по группе income_type. \n",
        "> - education (образование клиента), education_id (идентификатор образования) - заменили текст в разных регистрах на нижний регистр и сократили число уникальных значений до 5, education_id удалили.\n",
        "> - family_status (семейное положение), family_status_id (идентификатор семейного положения) - перевели в нижний регистр, family_status_id удалили\n",
        "> - gender (пол клиента) - выявили одну ошибку и заменили на F(более популярный пол).\n",
        "> - income_type (тип занятости) - без изменений\n",
        "> - debt  - без изменений\n",
        "> - total_income (доход в месяц) - пропуски заменили на медиану по каждому income_type.\n",
        "> - purpose (цель получения кредита) - можно сгруппировать в несколько категорий."
      ]
    },
    {
      "cell_type": "markdown",
      "metadata": {
        "id": "uUDLGqoNvqbh"
      },
      "source": [
        "#### Замена типа данных"
      ]
    },
    {
      "cell_type": "markdown",
      "metadata": {
        "id": "3HOPVk6bvqbi"
      },
      "source": [
        "Меняем float на int и проверяем."
      ]
    },
    {
      "cell_type": "code",
      "metadata": {
        "id": "hgzMFJgFvqbi",
        "colab": {
          "base_uri": "https://localhost:8080/"
        },
        "outputId": "dfcafd72-5a70-4236-ccfe-c05c587c1f2d"
      },
      "source": [
        "col_list = ['dob_years','total_income','years_employed']\n",
        "\n",
        "for col in col_list:\n",
        "\n",
        "    df[col] = df[col].astype('int')\n",
        "    \n",
        "df.info()"
      ],
      "execution_count": 312,
      "outputs": [
        {
          "output_type": "stream",
          "text": [
            "<class 'pandas.core.frame.DataFrame'>\n",
            "RangeIndex: 21471 entries, 0 to 21470\n",
            "Data columns (total 10 columns):\n",
            " #   Column          Non-Null Count  Dtype \n",
            "---  ------          --------------  ----- \n",
            " 0   children        21471 non-null  int64 \n",
            " 1   dob_years       21471 non-null  int64 \n",
            " 2   education       21471 non-null  object\n",
            " 3   family_status   21471 non-null  object\n",
            " 4   gender          21471 non-null  object\n",
            " 5   income_type     21471 non-null  object\n",
            " 6   debt            21471 non-null  int64 \n",
            " 7   total_income    21471 non-null  int64 \n",
            " 8   purpose         21471 non-null  object\n",
            " 9   years_employed  21471 non-null  int64 \n",
            "dtypes: int64(5), object(5)\n",
            "memory usage: 1.6+ MB\n"
          ],
          "name": "stdout"
        }
      ]
    },
    {
      "cell_type": "markdown",
      "metadata": {
        "id": "MkHrtjJ4vqbj"
      },
      "source": [
        "<b>Вывод: </b> float поменяли на integer. Остальное оставили как есть."
      ]
    },
    {
      "cell_type": "markdown",
      "metadata": {
        "id": "xrFlgwZhvqbj"
      },
      "source": [
        "#### Обработка дубликатов"
      ]
    },
    {
      "cell_type": "markdown",
      "metadata": {
        "id": "2ZfLdn5nvqbj"
      },
      "source": [
        "Проверяем датафрейм на дубликаты:"
      ]
    },
    {
      "cell_type": "code",
      "metadata": {
        "id": "6DEK5wBcvqbj",
        "colab": {
          "base_uri": "https://localhost:8080/"
        },
        "outputId": "072e6b29-1f69-4d26-fa8a-c1817d380b30"
      },
      "source": [
        "df.duplicated().sum()"
      ],
      "execution_count": 313,
      "outputs": [
        {
          "output_type": "execute_result",
          "data": {
            "text/plain": [
              "17"
            ]
          },
          "metadata": {
            "tags": []
          },
          "execution_count": 313
        }
      ]
    },
    {
      "cell_type": "markdown",
      "metadata": {
        "id": "TbhofHUwvqbk"
      },
      "source": [
        "<b>Вывод: </b> Нашли 17 одинаковых строк, которые возникли после заполнения пропусков и исправления ошибок. По условиям задачи сроки удаляем."
      ]
    },
    {
      "cell_type": "code",
      "metadata": {
        "id": "rUssjOqLvqbl"
      },
      "source": [
        "df = df.drop_duplicates().reset_index(drop=True)"
      ],
      "execution_count": 314,
      "outputs": []
    },
    {
      "cell_type": "markdown",
      "metadata": {
        "id": "pvv3SwsBvqbo"
      },
      "source": [
        "#### Категоризация данных"
      ]
    },
    {
      "cell_type": "markdown",
      "metadata": {
        "id": "yrSa6qmrvqbl"
      },
      "source": [
        "Возвращаемся к purpose:"
      ]
    },
    {
      "cell_type": "code",
      "metadata": {
        "id": "2AUNTx0svqbm",
        "colab": {
          "base_uri": "https://localhost:8080/"
        },
        "outputId": "7507f79f-4ba5-4f38-b107-462713990fda"
      },
      "source": [
        "df['purpose'].value_counts()"
      ],
      "execution_count": 315,
      "outputs": [
        {
          "output_type": "execute_result",
          "data": {
            "text/plain": [
              "свадьба                                   791\n",
              "на проведение свадьбы                     768\n",
              "сыграть свадьбу                           765\n",
              "операции с недвижимостью                  675\n",
              "покупка коммерческой недвижимости         661\n",
              "операции с жильем                         652\n",
              "покупка жилья для сдачи                   651\n",
              "операции с коммерческой недвижимостью     650\n",
              "жилье                                     646\n",
              "покупка жилья                             646\n",
              "покупка жилья для семьи                   638\n",
              "строительство собственной недвижимости    635\n",
              "недвижимость                              633\n",
              "операции со своей недвижимостью           627\n",
              "строительство жилой недвижимости          624\n",
              "покупка недвижимости                      621\n",
              "покупка своего жилья                      620\n",
              "строительство недвижимости                619\n",
              "ремонт жилью                              607\n",
              "покупка жилой недвижимости                606\n",
              "на покупку своего автомобиля              505\n",
              "заняться высшим образованием              496\n",
              "автомобиль                                494\n",
              "сделка с подержанным автомобилем          486\n",
              "на покупку подержанного автомобиля        478\n",
              "автомобили                                478\n",
              "свой автомобиль                           478\n",
              "на покупку автомобиля                     471\n",
              "приобретение автомобиля                   461\n",
              "дополнительное образование                460\n",
              "сделка с автомобилем                      455\n",
              "высшее образование                        452\n",
              "образование                               447\n",
              "получение дополнительного образования     446\n",
              "получение образования                     442\n",
              "профильное образование                    436\n",
              "получение высшего образования             426\n",
              "заняться образованием                     408\n",
              "Name: purpose, dtype: int64"
            ]
          },
          "metadata": {
            "tags": []
          },
          "execution_count": 315
        }
      ]
    },
    {
      "cell_type": "markdown",
      "metadata": {
        "id": "kxG9Hx5tvqbn"
      },
      "source": [
        "Выделяем: авто, недвижимость, образование, свадьба. Проставляем категории в отдельную колонку и смотрим что получилось."
      ]
    },
    {
      "cell_type": "code",
      "metadata": {
        "id": "7Oe9phOEa8OA"
      },
      "source": [
        "def purpose_cat(row):\n",
        "    if 'авто' in row:\n",
        "      return 'vehicle'\n",
        "    elif 'недвиж' in row or 'жиль' in row:\n",
        "      return 'real estate'\n",
        "    elif 'свадьб' in row:\n",
        "      return 'marriage'\n",
        "    elif 'образов' in row:\n",
        "      return 'education'\n",
        "        \n",
        "df['purpose_cat'] = df['purpose'].apply(purpose_cat)"
      ],
      "execution_count": 316,
      "outputs": []
    },
    {
      "cell_type": "code",
      "metadata": {
        "id": "Bf9lHBL5vqbn",
        "colab": {
          "base_uri": "https://localhost:8080/"
        },
        "outputId": "3a04333a-aac0-4b57-c741-5fa0bd5ac31e"
      },
      "source": [
        "df['purpose_cat'].value_counts(dropna=False)"
      ],
      "execution_count": 317,
      "outputs": [
        {
          "output_type": "execute_result",
          "data": {
            "text/plain": [
              "real estate    10811\n",
              "vehicle         4306\n",
              "education       4013\n",
              "marriage        2324\n",
              "Name: purpose_cat, dtype: int64"
            ]
          },
          "metadata": {
            "tags": []
          },
          "execution_count": 317
        }
      ]
    },
    {
      "cell_type": "markdown",
      "metadata": {
        "id": "B64yvjShvqbo"
      },
      "source": [
        "Категоризируем dob_years и проверяем чтобы разбивка была более менее равномерна по кол-ву записей. Также интересно сразу посмотреть влияние на debt."
      ]
    },
    {
      "cell_type": "code",
      "metadata": {
        "colab": {
          "base_uri": "https://localhost:8080/",
          "height": 235
        },
        "id": "ATzjCphKelO4",
        "outputId": "ca60f25a-4ac8-4c5e-fdfa-3b72fae8ec46"
      },
      "source": [
        "df['dob_years_cat'] = pd.qcut(df['dob_years'],5)\n",
        "df.groupby('dob_years_cat')['debt'].agg(['count','mean'])"
      ],
      "execution_count": 318,
      "outputs": [
        {
          "output_type": "execute_result",
          "data": {
            "text/html": [
              "<div>\n",
              "<style scoped>\n",
              "    .dataframe tbody tr th:only-of-type {\n",
              "        vertical-align: middle;\n",
              "    }\n",
              "\n",
              "    .dataframe tbody tr th {\n",
              "        vertical-align: top;\n",
              "    }\n",
              "\n",
              "    .dataframe thead th {\n",
              "        text-align: right;\n",
              "    }\n",
              "</style>\n",
              "<table border=\"1\" class=\"dataframe\">\n",
              "  <thead>\n",
              "    <tr style=\"text-align: right;\">\n",
              "      <th></th>\n",
              "      <th>count</th>\n",
              "      <th>mean</th>\n",
              "    </tr>\n",
              "    <tr>\n",
              "      <th>dob_years_cat</th>\n",
              "      <th></th>\n",
              "      <th></th>\n",
              "    </tr>\n",
              "  </thead>\n",
              "  <tbody>\n",
              "    <tr>\n",
              "      <th>(18.999, 32.0]</th>\n",
              "      <td>4785</td>\n",
              "      <td>0.110972</td>\n",
              "    </tr>\n",
              "    <tr>\n",
              "      <th>(32.0, 39.0]</th>\n",
              "      <td>4132</td>\n",
              "      <td>0.091239</td>\n",
              "    </tr>\n",
              "    <tr>\n",
              "      <th>(39.0, 47.0]</th>\n",
              "      <td>4316</td>\n",
              "      <td>0.078545</td>\n",
              "    </tr>\n",
              "    <tr>\n",
              "      <th>(47.0, 56.0]</th>\n",
              "      <td>4348</td>\n",
              "      <td>0.065777</td>\n",
              "    </tr>\n",
              "    <tr>\n",
              "      <th>(56.0, 75.0]</th>\n",
              "      <td>3873</td>\n",
              "      <td>0.053705</td>\n",
              "    </tr>\n",
              "  </tbody>\n",
              "</table>\n",
              "</div>"
            ],
            "text/plain": [
              "                count      mean\n",
              "dob_years_cat                  \n",
              "(18.999, 32.0]   4785  0.110972\n",
              "(32.0, 39.0]     4132  0.091239\n",
              "(39.0, 47.0]     4316  0.078545\n",
              "(47.0, 56.0]     4348  0.065777\n",
              "(56.0, 75.0]     3873  0.053705"
            ]
          },
          "metadata": {
            "tags": []
          },
          "execution_count": 318
        }
      ]
    },
    {
      "cell_type": "code",
      "metadata": {
        "colab": {
          "base_uri": "https://localhost:8080/",
          "height": 404
        },
        "id": "56QmkiK9f6bb",
        "outputId": "04e8d108-122c-4892-d7da-49e2467e484b"
      },
      "source": [
        "df.groupby('dob_years_cat')['debt'].mean().plot(grid=True,ylim=0, figsize=(12,6))\n",
        "plt.title('Зависимость невозврата от возраста')\n",
        "plt.xlabel('Возраст')\n",
        "plt.ylabel('Доля невозврата')\n",
        "plt.show()"
      ],
      "execution_count": 319,
      "outputs": [
        {
          "output_type": "display_data",
          "data": {
            "image/png": "[encoded data removed]",
            "text/plain": [
              "<Figure size 864x432 with 1 Axes>"
            ]
          },
          "metadata": {
            "tags": [],
            "needs_background": "light"
          }
        }
      ]
    },
    {
      "cell_type": "markdown",
      "metadata": {
        "id": "ytoWOFFrvqbp"
      },
      "source": [
        "Зависимость возврата кредита от возраста вероятно есть - чем меньше возраст тем чаще невозврат."
      ]
    },
    {
      "cell_type": "markdown",
      "metadata": {
        "id": "kSmmZ0jevqbq"
      },
      "source": [
        "Категоризируем total_income."
      ]
    },
    {
      "cell_type": "code",
      "metadata": {
        "id": "h-kzi9alhu3P"
      },
      "source": [
        "df['total_income_cat'] = pd.cut(df['total_income'],[20000,80000,120000,160000,200000, 400000, np.inf])"
      ],
      "execution_count": 320,
      "outputs": []
    },
    {
      "cell_type": "code",
      "metadata": {
        "id": "VZ1NwWcHvqbs",
        "colab": {
          "base_uri": "https://localhost:8080/",
          "height": 266
        },
        "outputId": "f722c44a-7f7b-488b-9a8f-5cc501f40928"
      },
      "source": [
        "df.groupby('total_income_cat')['debt'].agg(['count','mean'])"
      ],
      "execution_count": 321,
      "outputs": [
        {
          "output_type": "execute_result",
          "data": {
            "text/html": [
              "<div>\n",
              "<style scoped>\n",
              "    .dataframe tbody tr th:only-of-type {\n",
              "        vertical-align: middle;\n",
              "    }\n",
              "\n",
              "    .dataframe tbody tr th {\n",
              "        vertical-align: top;\n",
              "    }\n",
              "\n",
              "    .dataframe thead th {\n",
              "        text-align: right;\n",
              "    }\n",
              "</style>\n",
              "<table border=\"1\" class=\"dataframe\">\n",
              "  <thead>\n",
              "    <tr style=\"text-align: right;\">\n",
              "      <th></th>\n",
              "      <th>count</th>\n",
              "      <th>mean</th>\n",
              "    </tr>\n",
              "    <tr>\n",
              "      <th>total_income_cat</th>\n",
              "      <th></th>\n",
              "      <th></th>\n",
              "    </tr>\n",
              "  </thead>\n",
              "  <tbody>\n",
              "    <tr>\n",
              "      <th>(20000.0, 80000.0]</th>\n",
              "      <td>2276</td>\n",
              "      <td>0.076450</td>\n",
              "    </tr>\n",
              "    <tr>\n",
              "      <th>(80000.0, 120000.0]</th>\n",
              "      <td>4955</td>\n",
              "      <td>0.083148</td>\n",
              "    </tr>\n",
              "    <tr>\n",
              "      <th>(120000.0, 160000.0]</th>\n",
              "      <td>5503</td>\n",
              "      <td>0.088497</td>\n",
              "    </tr>\n",
              "    <tr>\n",
              "      <th>(160000.0, 200000.0]</th>\n",
              "      <td>3653</td>\n",
              "      <td>0.084862</td>\n",
              "    </tr>\n",
              "    <tr>\n",
              "      <th>(200000.0, 400000.0]</th>\n",
              "      <td>4538</td>\n",
              "      <td>0.072058</td>\n",
              "    </tr>\n",
              "    <tr>\n",
              "      <th>(400000.0, inf]</th>\n",
              "      <td>529</td>\n",
              "      <td>0.058601</td>\n",
              "    </tr>\n",
              "  </tbody>\n",
              "</table>\n",
              "</div>"
            ],
            "text/plain": [
              "                      count      mean\n",
              "total_income_cat                     \n",
              "(20000.0, 80000.0]     2276  0.076450\n",
              "(80000.0, 120000.0]    4955  0.083148\n",
              "(120000.0, 160000.0]   5503  0.088497\n",
              "(160000.0, 200000.0]   3653  0.084862\n",
              "(200000.0, 400000.0]   4538  0.072058\n",
              "(400000.0, inf]         529  0.058601"
            ]
          },
          "metadata": {
            "tags": []
          },
          "execution_count": 321
        }
      ]
    },
    {
      "cell_type": "code",
      "metadata": {
        "colab": {
          "base_uri": "https://localhost:8080/",
          "height": 404
        },
        "id": "-BgtZMELjWSi",
        "outputId": "5519b262-4ed4-42f3-fbf0-5642547c56eb"
      },
      "source": [
        "df.groupby('total_income_cat')['debt'].mean().plot(grid=True,ylim=0, figsize=(12,6))\n",
        "plt.title('Зависимость невозврата от дохода')\n",
        "plt.xlabel('Доход')\n",
        "plt.ylabel('Доля невозврата')\n",
        "plt.show()"
      ],
      "execution_count": 322,
      "outputs": [
        {
          "output_type": "display_data",
          "data": {
            "image/png": "[encoded data removed]",
            "text/plain": [
              "<Figure size 864x432 with 1 Axes>"
            ]
          },
          "metadata": {
            "tags": [],
            "needs_background": "light"
          }
        }
      ]
    },
    {
      "cell_type": "markdown",
      "metadata": {
        "id": "1PzDcLqIvqbt"
      },
      "source": [
        "Заемщики с доходом от 120 до 200 являются наиболее рисковыми клиентами.  Остальные группы имеют более низкий невозврат. Видимо есть нелинейная зависимость"
      ]
    },
    {
      "cell_type": "markdown",
      "metadata": {
        "id": "9JT3LC5mvqbu"
      },
      "source": [
        "Категоризируем years_employed"
      ]
    },
    {
      "cell_type": "code",
      "metadata": {
        "id": "toe2bjtbvqbu"
      },
      "source": [
        "def years_employed_cat(years_employed):\n",
        "    if years_employed == 1:\n",
        "        return '1_1'\n",
        "    if years_employed >= 2 and years_employed <=3:\n",
        "        return '2_2-3'\n",
        "    if years_employed >= 4 and years_employed <=5:\n",
        "        return '3_4-5'\n",
        "    if years_employed >= 6 and years_employed <=10:\n",
        "        return '4_6-10'\n",
        "    if years_employed >= 10 and years_employed <=50:\n",
        "        return '5_10-50'\n",
        "    return '0'\n",
        "\n",
        "df['years_employed_cat'] = df['years_employed'].apply(years_employed_cat)"
      ],
      "execution_count": 323,
      "outputs": []
    },
    {
      "cell_type": "code",
      "metadata": {
        "id": "cWhFWWihvqbv",
        "colab": {
          "base_uri": "https://localhost:8080/",
          "height": 266
        },
        "outputId": "d1e44401-0221-4cc2-c951-df72a1e81c21"
      },
      "source": [
        "df.groupby('years_employed_cat')['debt'].agg(['count','mean'])"
      ],
      "execution_count": 324,
      "outputs": [
        {
          "output_type": "execute_result",
          "data": {
            "text/html": [
              "<div>\n",
              "<style scoped>\n",
              "    .dataframe tbody tr th:only-of-type {\n",
              "        vertical-align: middle;\n",
              "    }\n",
              "\n",
              "    .dataframe tbody tr th {\n",
              "        vertical-align: top;\n",
              "    }\n",
              "\n",
              "    .dataframe thead th {\n",
              "        text-align: right;\n",
              "    }\n",
              "</style>\n",
              "<table border=\"1\" class=\"dataframe\">\n",
              "  <thead>\n",
              "    <tr style=\"text-align: right;\">\n",
              "      <th></th>\n",
              "      <th>count</th>\n",
              "      <th>mean</th>\n",
              "    </tr>\n",
              "    <tr>\n",
              "      <th>years_employed_cat</th>\n",
              "      <th></th>\n",
              "      <th></th>\n",
              "    </tr>\n",
              "  </thead>\n",
              "  <tbody>\n",
              "    <tr>\n",
              "      <th>0</th>\n",
              "      <td>1827</td>\n",
              "      <td>0.105638</td>\n",
              "    </tr>\n",
              "    <tr>\n",
              "      <th>1_1</th>\n",
              "      <td>2024</td>\n",
              "      <td>0.117589</td>\n",
              "    </tr>\n",
              "    <tr>\n",
              "      <th>2_2-3</th>\n",
              "      <td>3438</td>\n",
              "      <td>0.100349</td>\n",
              "    </tr>\n",
              "    <tr>\n",
              "      <th>3_4-5</th>\n",
              "      <td>3945</td>\n",
              "      <td>0.080862</td>\n",
              "    </tr>\n",
              "    <tr>\n",
              "      <th>4_6-10</th>\n",
              "      <td>3695</td>\n",
              "      <td>0.078484</td>\n",
              "    </tr>\n",
              "    <tr>\n",
              "      <th>5_10-50</th>\n",
              "      <td>6525</td>\n",
              "      <td>0.054559</td>\n",
              "    </tr>\n",
              "  </tbody>\n",
              "</table>\n",
              "</div>"
            ],
            "text/plain": [
              "                    count      mean\n",
              "years_employed_cat                 \n",
              "0                    1827  0.105638\n",
              "1_1                  2024  0.117589\n",
              "2_2-3                3438  0.100349\n",
              "3_4-5                3945  0.080862\n",
              "4_6-10               3695  0.078484\n",
              "5_10-50              6525  0.054559"
            ]
          },
          "metadata": {
            "tags": []
          },
          "execution_count": 324
        }
      ]
    },
    {
      "cell_type": "code",
      "metadata": {
        "colab": {
          "base_uri": "https://localhost:8080/",
          "height": 405
        },
        "id": "bP8u1Jfej515",
        "outputId": "76cf5851-d3ac-4a56-a9df-48780d9953d3"
      },
      "source": [
        "df.groupby('years_employed_cat')['debt'].mean().plot(grid=True,ylim=0, figsize=(12,6))\n",
        "plt.title('Зависимость невозврата от стажа')\n",
        "plt.xlabel('Стаж')\n",
        "plt.ylabel('Доля невозврата')\n",
        "plt.show()"
      ],
      "execution_count": 325,
      "outputs": [
        {
          "output_type": "display_data",
          "data": {
            "image/png": "[encoded data removed]",
            "text/plain": [
              "<Figure size 864x432 with 1 Axes>"
            ]
          },
          "metadata": {
            "tags": [],
            "needs_background": "light"
          }
        }
      ]
    },
    {
      "cell_type": "markdown",
      "metadata": {
        "id": "e1ItihKxvqbv"
      },
      "source": [
        "Наибольший риск невозврата при стаже 1 год, с ростом стажа вероятность снижается."
      ]
    },
    {
      "cell_type": "markdown",
      "metadata": {
        "id": "h9rXJR-Cvqbv"
      },
      "source": [
        "### Вывод по категоризации данных\n",
        "Разбили total_income, years_employed и dob_years на категории. Предположительно есть зависимость между этими тремя переменными и вероятностью возврата кредита."
      ]
    },
    {
      "cell_type": "markdown",
      "metadata": {
        "id": "GmRZgC0Qvqbv"
      },
      "source": [
        "### Этап 3. Ответы на вопросы"
      ]
    },
    {
      "cell_type": "markdown",
      "metadata": {
        "id": "k2ck8VlZvqbw"
      },
      "source": [
        "#### Есть ли зависимость между наличием детей и возвратом кредита в срок?"
      ]
    },
    {
      "cell_type": "markdown",
      "metadata": {
        "id": "LUGcB82bvqbw"
      },
      "source": [
        "Оценим среднее число детей для обоих значений debt."
      ]
    },
    {
      "cell_type": "code",
      "metadata": {
        "id": "dHxw2L3Ovqbw",
        "colab": {
          "base_uri": "https://localhost:8080/"
        },
        "outputId": "485ed493-b56b-48b7-eec2-f4b84ecd7fa3"
      },
      "source": [
        "df.groupby('debt')['children'].mean().round(3)"
      ],
      "execution_count": 326,
      "outputs": [
        {
          "output_type": "execute_result",
          "data": {
            "text/plain": [
              "debt\n",
              "0    0.475\n",
              "1    0.543\n",
              "Name: children, dtype: float64"
            ]
          },
          "metadata": {
            "tags": []
          },
          "execution_count": 326
        }
      ]
    },
    {
      "cell_type": "markdown",
      "metadata": {
        "id": "gxCDR6IIvqbx"
      },
      "source": [
        "У заемщиков с невозвратами в среднем больше детей. \n",
        "Посмотрим наоборот среднее по debt в разбивке по кол-ву детей"
      ]
    },
    {
      "cell_type": "code",
      "metadata": {
        "id": "9T3-zKhbvqbx",
        "colab": {
          "base_uri": "https://localhost:8080/"
        },
        "outputId": "1da5d687-3619-4b99-cd21-7ea6bf457882"
      },
      "source": [
        "df.groupby('children')['debt'].mean().round(3)"
      ],
      "execution_count": 327,
      "outputs": [
        {
          "output_type": "execute_result",
          "data": {
            "text/plain": [
              "children\n",
              "0    0.075\n",
              "1    0.092\n",
              "2    0.095\n",
              "3    0.082\n",
              "4    0.098\n",
              "5    0.000\n",
              "Name: debt, dtype: float64"
            ]
          },
          "metadata": {
            "tags": []
          },
          "execution_count": 327
        }
      ]
    },
    {
      "cell_type": "code",
      "metadata": {
        "id": "jqq9mU8Gvqbx",
        "colab": {
          "base_uri": "https://localhost:8080/"
        },
        "outputId": "16d6bc7d-8b51-428a-e401-c55c9d49b915"
      },
      "source": [
        "df['children'].value_counts()"
      ],
      "execution_count": 328,
      "outputs": [
        {
          "output_type": "execute_result",
          "data": {
            "text/plain": [
              "0    14091\n",
              "1     4855\n",
              "2     2128\n",
              "3      330\n",
              "4       41\n",
              "5        9\n",
              "Name: children, dtype: int64"
            ]
          },
          "metadata": {
            "tags": []
          },
          "execution_count": 328
        }
      ]
    },
    {
      "cell_type": "markdown",
      "metadata": {
        "id": "QU7mEQYlvqbx"
      },
      "source": [
        "<b>Вывод:</b>\n",
        "Наличие детей повышает риск невозврата (между 0 и 1 ребенком происходит рост невозвратов, с 7 до 9 %). У заемщиков с детьми % варьируется незначительно. Выделяется группа семей с тремя детьми, она наиболее безопасная (если не учитывать семьи без детей)."
      ]
    },
    {
      "cell_type": "markdown",
      "metadata": {
        "id": "0McYFvl9vqby"
      },
      "source": [
        "#### Есть ли зависимость между семейным положением и возвратом кредита в срок?"
      ]
    },
    {
      "cell_type": "markdown",
      "metadata": {
        "id": "4zICidSIvqby"
      },
      "source": [
        "Смотрим среднюю по debt в разбивке по семейному статусу и кол-во записей с каждым статусом"
      ]
    },
    {
      "cell_type": "code",
      "metadata": {
        "id": "SUuKV3d-vqby",
        "colab": {
          "base_uri": "https://localhost:8080/"
        },
        "outputId": "2be19758-48df-4e8c-8e0c-179512933f83"
      },
      "source": [
        "df.groupby('family_status')['debt'].mean()"
      ],
      "execution_count": 329,
      "outputs": [
        {
          "output_type": "execute_result",
          "data": {
            "text/plain": [
              "family_status\n",
              "в разводе                0.071130\n",
              "вдовец / вдова           0.065693\n",
              "гражданский брак         0.093471\n",
              "женат / замужем          0.075452\n",
              "не женат / не замужем    0.097509\n",
              "Name: debt, dtype: float64"
            ]
          },
          "metadata": {
            "tags": []
          },
          "execution_count": 329
        }
      ]
    },
    {
      "cell_type": "code",
      "metadata": {
        "id": "BRIFjrePvqbz",
        "colab": {
          "base_uri": "https://localhost:8080/"
        },
        "outputId": "640c21f4-a51e-44eb-a8e5-7eb27072f02c"
      },
      "source": [
        "df['family_status'].value_counts()"
      ],
      "execution_count": 330,
      "outputs": [
        {
          "output_type": "execute_result",
          "data": {
            "text/plain": [
              "женат / замужем          12339\n",
              "гражданский брак          4151\n",
              "не женат / не замужем     2810\n",
              "в разводе                 1195\n",
              "вдовец / вдова             959\n",
              "Name: family_status, dtype: int64"
            ]
          },
          "metadata": {
            "tags": []
          },
          "execution_count": 330
        }
      ]
    },
    {
      "cell_type": "markdown",
      "metadata": {
        "id": "TZTi_IDavqbz"
      },
      "source": [
        "<b>Вывод:</b>\n",
        "Люди, которые не состоят в официальных отношениях и никогда не состояли хуже возвращают кредиты, в отличии от семей, которые имеют официальный статус, пусть даже когда-то в прошлом. Возможно что тут есть еще определенное влияние возраста, так как люди состоящие в официальных отношениях \\ разводе \\ вдовстве как правило старше."
      ]
    },
    {
      "cell_type": "markdown",
      "metadata": {
        "id": "vFSBmh1Cvqb0"
      },
      "source": [
        "Проверяем зависимость семейного статуса от возраста и вероятность невозврата в разбивке по возрастным группам:"
      ]
    },
    {
      "cell_type": "code",
      "metadata": {
        "id": "Hw2yeWayvqb0",
        "colab": {
          "base_uri": "https://localhost:8080/",
          "height": 235
        },
        "outputId": "58a546b7-a9b3-47e2-d24c-bfb124f9006c"
      },
      "source": [
        "df.groupby('family_status')['dob_years'].agg(['mean','median'])"
      ],
      "execution_count": 331,
      "outputs": [
        {
          "output_type": "execute_result",
          "data": {
            "text/html": [
              "<div>\n",
              "<style scoped>\n",
              "    .dataframe tbody tr th:only-of-type {\n",
              "        vertical-align: middle;\n",
              "    }\n",
              "\n",
              "    .dataframe tbody tr th {\n",
              "        vertical-align: top;\n",
              "    }\n",
              "\n",
              "    .dataframe thead th {\n",
              "        text-align: right;\n",
              "    }\n",
              "</style>\n",
              "<table border=\"1\" class=\"dataframe\">\n",
              "  <thead>\n",
              "    <tr style=\"text-align: right;\">\n",
              "      <th></th>\n",
              "      <th>mean</th>\n",
              "      <th>median</th>\n",
              "    </tr>\n",
              "    <tr>\n",
              "      <th>family_status</th>\n",
              "      <th></th>\n",
              "      <th></th>\n",
              "    </tr>\n",
              "  </thead>\n",
              "  <tbody>\n",
              "    <tr>\n",
              "      <th>в разводе</th>\n",
              "      <td>45.879498</td>\n",
              "      <td>46</td>\n",
              "    </tr>\n",
              "    <tr>\n",
              "      <th>вдовец / вдова</th>\n",
              "      <td>56.811262</td>\n",
              "      <td>58</td>\n",
              "    </tr>\n",
              "    <tr>\n",
              "      <th>гражданский брак</th>\n",
              "      <td>42.271983</td>\n",
              "      <td>41</td>\n",
              "    </tr>\n",
              "    <tr>\n",
              "      <th>женат / замужем</th>\n",
              "      <td>43.715131</td>\n",
              "      <td>43</td>\n",
              "    </tr>\n",
              "    <tr>\n",
              "      <th>не женат / не замужем</th>\n",
              "      <td>38.614235</td>\n",
              "      <td>36</td>\n",
              "    </tr>\n",
              "  </tbody>\n",
              "</table>\n",
              "</div>"
            ],
            "text/plain": [
              "                            mean  median\n",
              "family_status                           \n",
              "в разводе              45.879498      46\n",
              "вдовец / вдова         56.811262      58\n",
              "гражданский брак       42.271983      41\n",
              "женат / замужем        43.715131      43\n",
              "не женат / не замужем  38.614235      36"
            ]
          },
          "metadata": {
            "tags": []
          },
          "execution_count": 331
        }
      ]
    },
    {
      "cell_type": "code",
      "metadata": {
        "id": "3351ar0svqb0",
        "colab": {
          "base_uri": "https://localhost:8080/",
          "height": 235
        },
        "outputId": "cc62a168-ca95-428f-951e-707131b33547"
      },
      "source": [
        "df.groupby('dob_years_cat')['debt'].agg(['mean','median'])"
      ],
      "execution_count": 332,
      "outputs": [
        {
          "output_type": "execute_result",
          "data": {
            "text/html": [
              "<div>\n",
              "<style scoped>\n",
              "    .dataframe tbody tr th:only-of-type {\n",
              "        vertical-align: middle;\n",
              "    }\n",
              "\n",
              "    .dataframe tbody tr th {\n",
              "        vertical-align: top;\n",
              "    }\n",
              "\n",
              "    .dataframe thead th {\n",
              "        text-align: right;\n",
              "    }\n",
              "</style>\n",
              "<table border=\"1\" class=\"dataframe\">\n",
              "  <thead>\n",
              "    <tr style=\"text-align: right;\">\n",
              "      <th></th>\n",
              "      <th>mean</th>\n",
              "      <th>median</th>\n",
              "    </tr>\n",
              "    <tr>\n",
              "      <th>dob_years_cat</th>\n",
              "      <th></th>\n",
              "      <th></th>\n",
              "    </tr>\n",
              "  </thead>\n",
              "  <tbody>\n",
              "    <tr>\n",
              "      <th>(18.999, 32.0]</th>\n",
              "      <td>0.110972</td>\n",
              "      <td>0</td>\n",
              "    </tr>\n",
              "    <tr>\n",
              "      <th>(32.0, 39.0]</th>\n",
              "      <td>0.091239</td>\n",
              "      <td>0</td>\n",
              "    </tr>\n",
              "    <tr>\n",
              "      <th>(39.0, 47.0]</th>\n",
              "      <td>0.078545</td>\n",
              "      <td>0</td>\n",
              "    </tr>\n",
              "    <tr>\n",
              "      <th>(47.0, 56.0]</th>\n",
              "      <td>0.065777</td>\n",
              "      <td>0</td>\n",
              "    </tr>\n",
              "    <tr>\n",
              "      <th>(56.0, 75.0]</th>\n",
              "      <td>0.053705</td>\n",
              "      <td>0</td>\n",
              "    </tr>\n",
              "  </tbody>\n",
              "</table>\n",
              "</div>"
            ],
            "text/plain": [
              "                    mean  median\n",
              "dob_years_cat                   \n",
              "(18.999, 32.0]  0.110972       0\n",
              "(32.0, 39.0]    0.091239       0\n",
              "(39.0, 47.0]    0.078545       0\n",
              "(47.0, 56.0]    0.065777       0\n",
              "(56.0, 75.0]    0.053705       0"
            ]
          },
          "metadata": {
            "tags": []
          },
          "execution_count": 332
        }
      ]
    },
    {
      "cell_type": "markdown",
      "metadata": {
        "id": "0d8WoJ4Cvqb0"
      },
      "source": [
        "Да, люди состоящие в официальных отношениях \\ разводе \\ вдовстве в среднем старше. И с возрастом вероятность невозврата кредита уменьшается."
      ]
    },
    {
      "cell_type": "markdown",
      "metadata": {
        "id": "RHq1Mo8Qvqb1"
      },
      "source": [
        "#### Есть ли зависимость между уровнем дохода и возвратом кредита в срок?"
      ]
    },
    {
      "cell_type": "markdown",
      "metadata": {
        "id": "P30pFHxIvqb2"
      },
      "source": [
        "Смотрим средний доход и медиану у тех кто вернул и не вернул. А также среднюю по debt в разбивке по категориям дохода:"
      ]
    },
    {
      "cell_type": "code",
      "metadata": {
        "id": "rqabIsKlvqb2",
        "colab": {
          "base_uri": "https://localhost:8080/",
          "height": 142
        },
        "outputId": "55c80954-3d65-4b84-95ae-b2249b64fe57"
      },
      "source": [
        "df.groupby('debt')['total_income'].agg(['mean','median'])"
      ],
      "execution_count": 333,
      "outputs": [
        {
          "output_type": "execute_result",
          "data": {
            "text/html": [
              "<div>\n",
              "<style scoped>\n",
              "    .dataframe tbody tr th:only-of-type {\n",
              "        vertical-align: middle;\n",
              "    }\n",
              "\n",
              "    .dataframe tbody tr th {\n",
              "        vertical-align: top;\n",
              "    }\n",
              "\n",
              "    .dataframe thead th {\n",
              "        text-align: right;\n",
              "    }\n",
              "</style>\n",
              "<table border=\"1\" class=\"dataframe\">\n",
              "  <thead>\n",
              "    <tr style=\"text-align: right;\">\n",
              "      <th></th>\n",
              "      <th>mean</th>\n",
              "      <th>median</th>\n",
              "    </tr>\n",
              "    <tr>\n",
              "      <th>debt</th>\n",
              "      <th></th>\n",
              "      <th></th>\n",
              "    </tr>\n",
              "  </thead>\n",
              "  <tbody>\n",
              "    <tr>\n",
              "      <th>0</th>\n",
              "      <td>165687.076599</td>\n",
              "      <td>142594</td>\n",
              "    </tr>\n",
              "    <tr>\n",
              "      <th>1</th>\n",
              "      <td>161158.393452</td>\n",
              "      <td>142594</td>\n",
              "    </tr>\n",
              "  </tbody>\n",
              "</table>\n",
              "</div>"
            ],
            "text/plain": [
              "               mean  median\n",
              "debt                       \n",
              "0     165687.076599  142594\n",
              "1     161158.393452  142594"
            ]
          },
          "metadata": {
            "tags": []
          },
          "execution_count": 333
        }
      ]
    },
    {
      "cell_type": "code",
      "metadata": {
        "id": "h2s_XdDKvqb3",
        "colab": {
          "base_uri": "https://localhost:8080/",
          "height": 266
        },
        "outputId": "919df3e7-cfcc-4061-c937-c4a97f632934"
      },
      "source": [
        "df.groupby('total_income_cat').agg({'debt': 'mean'})"
      ],
      "execution_count": 334,
      "outputs": [
        {
          "output_type": "execute_result",
          "data": {
            "text/html": [
              "<div>\n",
              "<style scoped>\n",
              "    .dataframe tbody tr th:only-of-type {\n",
              "        vertical-align: middle;\n",
              "    }\n",
              "\n",
              "    .dataframe tbody tr th {\n",
              "        vertical-align: top;\n",
              "    }\n",
              "\n",
              "    .dataframe thead th {\n",
              "        text-align: right;\n",
              "    }\n",
              "</style>\n",
              "<table border=\"1\" class=\"dataframe\">\n",
              "  <thead>\n",
              "    <tr style=\"text-align: right;\">\n",
              "      <th></th>\n",
              "      <th>debt</th>\n",
              "    </tr>\n",
              "    <tr>\n",
              "      <th>total_income_cat</th>\n",
              "      <th></th>\n",
              "    </tr>\n",
              "  </thead>\n",
              "  <tbody>\n",
              "    <tr>\n",
              "      <th>(20000.0, 80000.0]</th>\n",
              "      <td>0.076450</td>\n",
              "    </tr>\n",
              "    <tr>\n",
              "      <th>(80000.0, 120000.0]</th>\n",
              "      <td>0.083148</td>\n",
              "    </tr>\n",
              "    <tr>\n",
              "      <th>(120000.0, 160000.0]</th>\n",
              "      <td>0.088497</td>\n",
              "    </tr>\n",
              "    <tr>\n",
              "      <th>(160000.0, 200000.0]</th>\n",
              "      <td>0.084862</td>\n",
              "    </tr>\n",
              "    <tr>\n",
              "      <th>(200000.0, 400000.0]</th>\n",
              "      <td>0.072058</td>\n",
              "    </tr>\n",
              "    <tr>\n",
              "      <th>(400000.0, inf]</th>\n",
              "      <td>0.058601</td>\n",
              "    </tr>\n",
              "  </tbody>\n",
              "</table>\n",
              "</div>"
            ],
            "text/plain": [
              "                          debt\n",
              "total_income_cat              \n",
              "(20000.0, 80000.0]    0.076450\n",
              "(80000.0, 120000.0]   0.083148\n",
              "(120000.0, 160000.0]  0.088497\n",
              "(160000.0, 200000.0]  0.084862\n",
              "(200000.0, 400000.0]  0.072058\n",
              "(400000.0, inf]       0.058601"
            ]
          },
          "metadata": {
            "tags": []
          },
          "execution_count": 334
        }
      ]
    },
    {
      "cell_type": "markdown",
      "metadata": {
        "id": "xa7Dmq0Kvqb3"
      },
      "source": [
        "<b>Вывод:</b>\n",
        "Зависимость вероятности невозврата кредита от уровня дохода есть, наибольший % невозврата у заемщиков со средним доходом и с доходом выше среднего (при разбивке по квантилям)  или в диапазоне 120-160 тыс. руб. Наименьший риск невозврата у заемщиков с высоким доходом."
      ]
    },
    {
      "cell_type": "markdown",
      "metadata": {
        "id": "hewf-Buevqb5"
      },
      "source": [
        "#### Как разные цели кредита влияют на его возврат в срок?"
      ]
    },
    {
      "cell_type": "markdown",
      "metadata": {
        "id": "srMDUTNuvqb5"
      },
      "source": [
        "Смотрим среднюю по debt в разбивке по категориям целей кредита"
      ]
    },
    {
      "cell_type": "code",
      "metadata": {
        "id": "7b7GheH5vqb5",
        "colab": {
          "base_uri": "https://localhost:8080/"
        },
        "outputId": "e4262f30-e344-4716-acaf-63e3df0d91e0"
      },
      "source": [
        "df.groupby('purpose_cat')['debt'].mean()"
      ],
      "execution_count": 335,
      "outputs": [
        {
          "output_type": "execute_result",
          "data": {
            "text/plain": [
              "purpose_cat\n",
              "education      0.092200\n",
              "marriage       0.080034\n",
              "real estate    0.072334\n",
              "vehicle        0.093590\n",
              "Name: debt, dtype: float64"
            ]
          },
          "metadata": {
            "tags": []
          },
          "execution_count": 335
        }
      ]
    },
    {
      "cell_type": "markdown",
      "metadata": {
        "id": "g_w1aFONvqb6"
      },
      "source": [
        "<b>Вывод:</b>\n",
        "Невозврат по кредиту больше при займах на автомобиль и образование. Тогда как по кредитам на недвижимость и свадьбу невозвратов меньше."
      ]
    },
    {
      "cell_type": "markdown",
      "metadata": {
        "id": "cFNGpr1Pvqb6"
      },
      "source": [
        "### Этап 4. Общий вывод"
      ]
    },
    {
      "cell_type": "markdown",
      "metadata": {
        "id": "Zs94E_4bvqb6"
      },
      "source": [
        "На основании анализа данных по заемщикам можно предположить зависимость между числом детей и риском невозврата кредита - при наличии детей риск возрастает. \n",
        "\n",
        "Также на вероятность невозврата кредита вероятно влияет семейное положение: наибольший риск невозврата у неженатых/незамужних заемщиков и заемщиков, состоящих в гражданском браке; наименьший риск невозврата у заемщиков в статусе: вдовец / вдова. Возможно это обусловлено возрастом: надежность заемщика с возрастом растет, при этом люди несостоящие в браке или состоявшие в гражданском браке в среднем моложе, а заемщики состоящие или состоявшие в браке - старше. \n",
        "\n",
        "Уровень дохода связан с вероятность возврата кредита: наименее надежны заемщики со средним доходом и доходом выше среднего, при оценке по квартилям, или с доходом в диапазоне 120-160 тыс. руб. Наиболее надежны заемщики с высоким уровнем дохода.\n",
        "\n",
        "Цели кредита влияют на риск невозврата: кредиты на свадьбу и недвижимость возвращают в срок чаще, в том время как кредиты на образование и автомобиль являются более рискованными для кредитной организации."
      ]
    }
  ]
}